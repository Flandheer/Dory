{
 "cells": [
  {
   "cell_type": "markdown",
   "metadata": {},
   "source": [
    "# DORY. An exploration of barge movements on Western-Europe waterways\n",
    "\n",
    "Western-Europe has a broad river delta reaching from the shores off the Netherlands and Belgium through Germany and France to the mountains of Zwitserland. This river delta is used as a blue road for the transport of many types of goods like general goods in containers, commodities, cars, oil, mineral and gas. Although the barge is a slower transportation method than a truck or train, the amounts tranported per barge, CO2 emissions per litre, the connection with deepsea transport and the reliablity of infrastructure are all excellent arguments for shippers to choose the barge as transportation type. \n",
    "\n",
    "In this study we'll dive into location data of barges to explore the speeds of barges. This information could be used to enhance estimations of arrival times which contributes to the reliability and therefore reputation of the transportation type.\n",
    "\n",
    "## Data\n",
    "For the data three different datasources are used:\n",
    "1. General barge data in csv file\n",
    "2. General location data in csv file\n",
    "3. Position data of barges in csv file\n",
    "\n",
    "The data is offered by a anominous barge operator. A barge operator is a party responsible for collection and distrubition cargo on barges.\n",
    "\n",
    "## Methods\n",
    "\n",
    "### Wrangling\n",
    "There isn't any need for gathering the information, but steps towards cleaning is necessary. A visual and programmatic assessment has to be done before cleaning the data.\n",
    "\n",
    "### Visualization\n",
    "After wrangling the data will be explored and explained by three types of visualization:\n",
    "\n",
    "1. Univariate plots\n",
    "2. Bivariate plots\n",
    "3. Multivariate plits\n",
    "\n"
   ]
  },
  {
   "cell_type": "code",
   "execution_count": 1,
   "metadata": {
    "scrolled": false
   },
   "outputs": [
    {
     "name": "stdout",
     "output_type": "stream",
     "text": [
      "C:\\users\\frank\\jupyter notebook\\logistics\\data\n"
     ]
    }
   ],
   "source": [
    "cd \\users\\frank\\jupyter notebook\\logistics\\data"
   ]
  },
  {
   "cell_type": "code",
   "execution_count": 2,
   "metadata": {},
   "outputs": [],
   "source": [
    "import pandas as pd\n",
    "import numpy as np\n",
    "import matplotlib.pyplot as plt"
   ]
  },
  {
   "cell_type": "code",
   "execution_count": 3,
   "metadata": {},
   "outputs": [],
   "source": [
    "clog = pd.read_csv('cleanshiplog.csv')\n",
    "location = pd.read_csv('Locations.csv')\n",
    "ships = pd.read_csv('Ships.csv')"
   ]
  },
  {
   "cell_type": "markdown",
   "metadata": {},
   "source": [
    "## Data about barge postions\n",
    "The data is collected from barges that transport oil and minerals in the month April of the year 2020.  "
   ]
  },
  {
   "cell_type": "markdown",
   "metadata": {},
   "source": [
    "### Explanation data\n",
    "An explanation of the data. Barges are equiped with positioning software that sends a signal every minute. Depending on the strenght of the network on the location the signal is received or not by the barge operator. \n",
    "\n",
    "ShipId - identifier of the database for barges\n",
    "\n",
    "Speed - traveling speed of the barge in km/ph\n",
    "\n",
    "Course - cours of the barge in degrees (0 - 360)\n",
    "\n",
    "Location - location of the barge at the moment of receiving the signal"
   ]
  },
  {
   "cell_type": "code",
   "execution_count": 4,
   "metadata": {},
   "outputs": [
    {
     "data": {
      "text/plain": [
       "(884171, 4)"
      ]
     },
     "execution_count": 4,
     "metadata": {},
     "output_type": "execute_result"
    }
   ],
   "source": [
    "clog.shape"
   ]
  },
  {
   "cell_type": "code",
   "execution_count": 5,
   "metadata": {
    "scrolled": true
   },
   "outputs": [
    {
     "name": "stdout",
     "output_type": "stream",
     "text": [
      "<class 'pandas.core.frame.DataFrame'>\n",
      "RangeIndex: 884171 entries, 0 to 884170\n",
      "Data columns (total 4 columns):\n",
      " #   Column    Non-Null Count   Dtype  \n",
      "---  ------    --------------   -----  \n",
      " 0   ShipId    884171 non-null  float64\n",
      " 1   Speed     884171 non-null  float64\n",
      " 2   Course    884171 non-null  float64\n",
      " 3   Location  884171 non-null  object \n",
      "dtypes: float64(3), object(1)\n",
      "memory usage: 27.0+ MB\n"
     ]
    }
   ],
   "source": [
    "clog.info()"
   ]
  },
  {
   "cell_type": "markdown",
   "metadata": {},
   "source": [
    "## Visual assessment\n",
    "Visual assessment is done throug randomly looking throug multiple samples of 25 rows."
   ]
  },
  {
   "cell_type": "code",
   "execution_count": 6,
   "metadata": {
    "scrolled": true
   },
   "outputs": [
    {
     "data": {
      "text/html": [
       "<div>\n",
       "<style scoped>\n",
       "    .dataframe tbody tr th:only-of-type {\n",
       "        vertical-align: middle;\n",
       "    }\n",
       "\n",
       "    .dataframe tbody tr th {\n",
       "        vertical-align: top;\n",
       "    }\n",
       "\n",
       "    .dataframe thead th {\n",
       "        text-align: right;\n",
       "    }\n",
       "</style>\n",
       "<table border=\"1\" class=\"dataframe\">\n",
       "  <thead>\n",
       "    <tr style=\"text-align: right;\">\n",
       "      <th></th>\n",
       "      <th>ShipId</th>\n",
       "      <th>Speed</th>\n",
       "      <th>Course</th>\n",
       "      <th>Location</th>\n",
       "    </tr>\n",
       "  </thead>\n",
       "  <tbody>\n",
       "    <tr>\n",
       "      <th>364119</th>\n",
       "      <td>138.0</td>\n",
       "      <td>13.3</td>\n",
       "      <td>289.0</td>\n",
       "      <td>Amsterdam Rijnkanaal Tiel - Utrecht</td>\n",
       "    </tr>\n",
       "    <tr>\n",
       "      <th>286670</th>\n",
       "      <td>1212.0</td>\n",
       "      <td>9.1</td>\n",
       "      <td>155.9</td>\n",
       "      <td>Rijn Düsseldorf - Leverkusen</td>\n",
       "    </tr>\n",
       "    <tr>\n",
       "      <th>404392</th>\n",
       "      <td>833.0</td>\n",
       "      <td>0.0</td>\n",
       "      <td>0.0</td>\n",
       "      <td>Antwerpen</td>\n",
       "    </tr>\n",
       "    <tr>\n",
       "      <th>697104</th>\n",
       "      <td>1204.0</td>\n",
       "      <td>0.0</td>\n",
       "      <td>42.5</td>\n",
       "      <td>Julianakanaal Roermond - Maastricht</td>\n",
       "    </tr>\n",
       "    <tr>\n",
       "      <th>456422</th>\n",
       "      <td>844.0</td>\n",
       "      <td>3.7</td>\n",
       "      <td>315.4</td>\n",
       "      <td>Hamburg</td>\n",
       "    </tr>\n",
       "    <tr>\n",
       "      <th>266928</th>\n",
       "      <td>724.0</td>\n",
       "      <td>0.2</td>\n",
       "      <td>248.0</td>\n",
       "      <td>Schelde Antwerpen - Gent</td>\n",
       "    </tr>\n",
       "    <tr>\n",
       "      <th>771466</th>\n",
       "      <td>117.0</td>\n",
       "      <td>0.0</td>\n",
       "      <td>999.9</td>\n",
       "      <td>Gorinchem</td>\n",
       "    </tr>\n",
       "    <tr>\n",
       "      <th>21912</th>\n",
       "      <td>1058.0</td>\n",
       "      <td>0.0</td>\n",
       "      <td>0.0</td>\n",
       "      <td>Dortmund</td>\n",
       "    </tr>\n",
       "    <tr>\n",
       "      <th>236884</th>\n",
       "      <td>117.0</td>\n",
       "      <td>0.0</td>\n",
       "      <td>999.9</td>\n",
       "      <td>Gorinchem</td>\n",
       "    </tr>\n",
       "    <tr>\n",
       "      <th>453081</th>\n",
       "      <td>1197.0</td>\n",
       "      <td>0.0</td>\n",
       "      <td>192.1</td>\n",
       "      <td>Amsterdam Het IJ</td>\n",
       "    </tr>\n",
       "    <tr>\n",
       "      <th>87113</th>\n",
       "      <td>833.0</td>\n",
       "      <td>0.0</td>\n",
       "      <td>0.0</td>\n",
       "      <td>Antwerpen</td>\n",
       "    </tr>\n",
       "    <tr>\n",
       "      <th>237277</th>\n",
       "      <td>844.0</td>\n",
       "      <td>0.0</td>\n",
       "      <td>999.9</td>\n",
       "      <td>Hamburg</td>\n",
       "    </tr>\n",
       "    <tr>\n",
       "      <th>672251</th>\n",
       "      <td>1206.0</td>\n",
       "      <td>0.0</td>\n",
       "      <td>0.0</td>\n",
       "      <td>Zwolle</td>\n",
       "    </tr>\n",
       "    <tr>\n",
       "      <th>746913</th>\n",
       "      <td>1198.0</td>\n",
       "      <td>0.2</td>\n",
       "      <td>195.0</td>\n",
       "      <td>Julianakanaal Roermond - Maastricht</td>\n",
       "    </tr>\n",
       "    <tr>\n",
       "      <th>607852</th>\n",
       "      <td>1055.0</td>\n",
       "      <td>0.0</td>\n",
       "      <td>11.0</td>\n",
       "      <td>Schalke</td>\n",
       "    </tr>\n",
       "    <tr>\n",
       "      <th>405674</th>\n",
       "      <td>841.0</td>\n",
       "      <td>0.0</td>\n",
       "      <td>27.6</td>\n",
       "      <td>Antwerpen</td>\n",
       "    </tr>\n",
       "    <tr>\n",
       "      <th>274025</th>\n",
       "      <td>1100.0</td>\n",
       "      <td>0.0</td>\n",
       "      <td>999.9</td>\n",
       "      <td>Rotterdamse haven</td>\n",
       "    </tr>\n",
       "    <tr>\n",
       "      <th>568786</th>\n",
       "      <td>1204.0</td>\n",
       "      <td>0.0</td>\n",
       "      <td>84.4</td>\n",
       "      <td>Rijn Millingen aan de Rijn - Wesel</td>\n",
       "    </tr>\n",
       "    <tr>\n",
       "      <th>517105</th>\n",
       "      <td>138.0</td>\n",
       "      <td>4.4</td>\n",
       "      <td>323.4</td>\n",
       "      <td>Afgedamde Maas</td>\n",
       "    </tr>\n",
       "    <tr>\n",
       "      <th>415283</th>\n",
       "      <td>1059.0</td>\n",
       "      <td>0.0</td>\n",
       "      <td>999.9</td>\n",
       "      <td>Rijn Leverkusen - Koblenz</td>\n",
       "    </tr>\n",
       "    <tr>\n",
       "      <th>248982</th>\n",
       "      <td>1212.0</td>\n",
       "      <td>10.7</td>\n",
       "      <td>164.9</td>\n",
       "      <td>Mannheim</td>\n",
       "    </tr>\n",
       "    <tr>\n",
       "      <th>77556</th>\n",
       "      <td>986.0</td>\n",
       "      <td>21.1</td>\n",
       "      <td>36.1</td>\n",
       "      <td>Rijn Leverkusen - Koblenz</td>\n",
       "    </tr>\n",
       "    <tr>\n",
       "      <th>9881</th>\n",
       "      <td>836.0</td>\n",
       "      <td>10.4</td>\n",
       "      <td>330.4</td>\n",
       "      <td>Antwerpen</td>\n",
       "    </tr>\n",
       "    <tr>\n",
       "      <th>627868</th>\n",
       "      <td>840.0</td>\n",
       "      <td>0.2</td>\n",
       "      <td>126.8</td>\n",
       "      <td>Hamburg</td>\n",
       "    </tr>\n",
       "    <tr>\n",
       "      <th>205898</th>\n",
       "      <td>841.0</td>\n",
       "      <td>16.5</td>\n",
       "      <td>102.6</td>\n",
       "      <td>Hollandsch Diep</td>\n",
       "    </tr>\n",
       "  </tbody>\n",
       "</table>\n",
       "</div>"
      ],
      "text/plain": [
       "        ShipId  Speed  Course                             Location\n",
       "364119   138.0   13.3   289.0  Amsterdam Rijnkanaal Tiel - Utrecht\n",
       "286670  1212.0    9.1   155.9         Rijn Düsseldorf - Leverkusen\n",
       "404392   833.0    0.0     0.0                            Antwerpen\n",
       "697104  1204.0    0.0    42.5  Julianakanaal Roermond - Maastricht\n",
       "456422   844.0    3.7   315.4                              Hamburg\n",
       "266928   724.0    0.2   248.0             Schelde Antwerpen - Gent\n",
       "771466   117.0    0.0   999.9                            Gorinchem\n",
       "21912   1058.0    0.0     0.0                             Dortmund\n",
       "236884   117.0    0.0   999.9                            Gorinchem\n",
       "453081  1197.0    0.0   192.1                     Amsterdam Het IJ\n",
       "87113    833.0    0.0     0.0                            Antwerpen\n",
       "237277   844.0    0.0   999.9                              Hamburg\n",
       "672251  1206.0    0.0     0.0                               Zwolle\n",
       "746913  1198.0    0.2   195.0  Julianakanaal Roermond - Maastricht\n",
       "607852  1055.0    0.0    11.0                              Schalke\n",
       "405674   841.0    0.0    27.6                            Antwerpen\n",
       "274025  1100.0    0.0   999.9                    Rotterdamse haven\n",
       "568786  1204.0    0.0    84.4   Rijn Millingen aan de Rijn - Wesel\n",
       "517105   138.0    4.4   323.4                       Afgedamde Maas\n",
       "415283  1059.0    0.0   999.9            Rijn Leverkusen - Koblenz\n",
       "248982  1212.0   10.7   164.9                             Mannheim\n",
       "77556    986.0   21.1    36.1            Rijn Leverkusen - Koblenz\n",
       "9881     836.0   10.4   330.4                            Antwerpen\n",
       "627868   840.0    0.2   126.8                              Hamburg\n",
       "205898   841.0   16.5   102.6                      Hollandsch Diep"
      ]
     },
     "execution_count": 6,
     "metadata": {},
     "output_type": "execute_result"
    }
   ],
   "source": [
    "clog.sample(25)"
   ]
  },
  {
   "cell_type": "markdown",
   "metadata": {},
   "source": [
    "* Course seems to be over 360 degrees in some cases. This can't be the case and seems to be inaccurate data.\n",
    "* ShipId seems to be a float but should be an object because it isn't going to be used of mathematical purposes"
   ]
  },
  {
   "cell_type": "markdown",
   "metadata": {},
   "source": [
    "## Programmatic assessement"
   ]
  },
  {
   "cell_type": "code",
   "execution_count": 7,
   "metadata": {
    "scrolled": true
   },
   "outputs": [
    {
     "name": "stdout",
     "output_type": "stream",
     "text": [
      "<class 'pandas.core.frame.DataFrame'>\n",
      "RangeIndex: 884171 entries, 0 to 884170\n",
      "Data columns (total 4 columns):\n",
      " #   Column    Non-Null Count   Dtype  \n",
      "---  ------    --------------   -----  \n",
      " 0   ShipId    884171 non-null  float64\n",
      " 1   Speed     884171 non-null  float64\n",
      " 2   Course    884171 non-null  float64\n",
      " 3   Location  884171 non-null  object \n",
      "dtypes: float64(3), object(1)\n",
      "memory usage: 27.0+ MB\n"
     ]
    }
   ],
   "source": [
    "clog.info()"
   ]
  },
  {
   "cell_type": "markdown",
   "metadata": {},
   "source": [
    "The shipId is a float, and should be an objeact. Other colomns seem to have correct types. There don't seem to be null values. "
   ]
  },
  {
   "cell_type": "code",
   "execution_count": 8,
   "metadata": {},
   "outputs": [
    {
     "data": {
      "text/plain": [
       "18.887862189553832"
      ]
     },
     "execution_count": 8,
     "metadata": {},
     "output_type": "execute_result"
    }
   ],
   "source": [
    "clog[clog['Course'] > 360].count()[2]/clog.shape[0] * 100"
   ]
  },
  {
   "cell_type": "markdown",
   "metadata": {},
   "source": [
    "In 18% of the cases the course seems inaccurate. These should be deleted."
   ]
  },
  {
   "cell_type": "code",
   "execution_count": 9,
   "metadata": {
    "scrolled": true
   },
   "outputs": [
    {
     "data": {
      "text/html": [
       "<div>\n",
       "<style scoped>\n",
       "    .dataframe tbody tr th:only-of-type {\n",
       "        vertical-align: middle;\n",
       "    }\n",
       "\n",
       "    .dataframe tbody tr th {\n",
       "        vertical-align: top;\n",
       "    }\n",
       "\n",
       "    .dataframe thead th {\n",
       "        text-align: right;\n",
       "    }\n",
       "</style>\n",
       "<table border=\"1\" class=\"dataframe\">\n",
       "  <thead>\n",
       "    <tr style=\"text-align: right;\">\n",
       "      <th></th>\n",
       "      <th>ShipId</th>\n",
       "      <th>Speed</th>\n",
       "      <th>Course</th>\n",
       "    </tr>\n",
       "  </thead>\n",
       "  <tbody>\n",
       "    <tr>\n",
       "      <th>count</th>\n",
       "      <td>884171.000000</td>\n",
       "      <td>884171.000000</td>\n",
       "      <td>884171.000000</td>\n",
       "    </tr>\n",
       "    <tr>\n",
       "      <th>mean</th>\n",
       "      <td>932.455703</td>\n",
       "      <td>3.735874</td>\n",
       "      <td>304.051763</td>\n",
       "    </tr>\n",
       "    <tr>\n",
       "      <th>std</th>\n",
       "      <td>301.847277</td>\n",
       "      <td>6.548932</td>\n",
       "      <td>351.786508</td>\n",
       "    </tr>\n",
       "    <tr>\n",
       "      <th>min</th>\n",
       "      <td>117.000000</td>\n",
       "      <td>0.000000</td>\n",
       "      <td>0.000000</td>\n",
       "    </tr>\n",
       "    <tr>\n",
       "      <th>25%</th>\n",
       "      <td>833.000000</td>\n",
       "      <td>0.000000</td>\n",
       "      <td>46.900000</td>\n",
       "    </tr>\n",
       "    <tr>\n",
       "      <th>50%</th>\n",
       "      <td>1055.000000</td>\n",
       "      <td>0.000000</td>\n",
       "      <td>185.300000</td>\n",
       "    </tr>\n",
       "    <tr>\n",
       "      <th>75%</th>\n",
       "      <td>1200.000000</td>\n",
       "      <td>8.000000</td>\n",
       "      <td>321.000000</td>\n",
       "    </tr>\n",
       "    <tr>\n",
       "      <th>max</th>\n",
       "      <td>1212.000000</td>\n",
       "      <td>189.500000</td>\n",
       "      <td>999.900000</td>\n",
       "    </tr>\n",
       "  </tbody>\n",
       "</table>\n",
       "</div>"
      ],
      "text/plain": [
       "              ShipId          Speed         Course\n",
       "count  884171.000000  884171.000000  884171.000000\n",
       "mean      932.455703       3.735874     304.051763\n",
       "std       301.847277       6.548932     351.786508\n",
       "min       117.000000       0.000000       0.000000\n",
       "25%       833.000000       0.000000      46.900000\n",
       "50%      1055.000000       0.000000     185.300000\n",
       "75%      1200.000000       8.000000     321.000000\n",
       "max      1212.000000     189.500000     999.900000"
      ]
     },
     "execution_count": 9,
     "metadata": {},
     "output_type": "execute_result"
    }
   ],
   "source": [
    "clog.describe()"
   ]
  },
  {
   "cell_type": "markdown",
   "metadata": {},
   "source": [
    "The ship speed seems to have unlikely results. "
   ]
  },
  {
   "cell_type": "code",
   "execution_count": 10,
   "metadata": {
    "scrolled": true
   },
   "outputs": [
    {
     "data": {
      "image/png": "[encoded data removed]",
      "text/plain": [
       "<Figure size 864x216 with 1 Axes>"
      ]
     },
     "metadata": {
      "needs_background": "light"
     },
     "output_type": "display_data"
    }
   ],
   "source": [
    "# Create horizontal figure for a readable figure\n",
    "plt.figure(figsize=[12,3])\n",
    "\n",
    "# Create horizontal boxplot and clear x ticks, knowing the results will be spread out\n",
    "plt.boxplot(clog['Speed'], vert = False)\n",
    "x_ticks = [10,20,30,40,50,60,70,80,90,100,150,200]\n",
    "plt.xticks (x_ticks)\n",
    "\n",
    "plt.xlabel('Speed (km/ph)')\n",
    "plt.title('Boxplot of barge speed');"
   ]
  },
  {
   "cell_type": "markdown",
   "metadata": {},
   "source": [
    "it seems like most values are underneath 30 km/ph. It save to say we can cut the result on that limit.b"
   ]
  },
  {
   "cell_type": "markdown",
   "metadata": {},
   "source": [
    "## Conclusion\n"
   ]
  },
  {
   "cell_type": "markdown",
   "metadata": {},
   "source": [
    "The data already seemss tidy, but for the quality of the data there's room for improvement:\n",
    "\n",
    "* Inaccurate data: 18.8% of the course information is inaccurate\n",
    "* Inaccurate data: It appears that the maximum speed of barge is under the 30 km/ph, but there are some outliers.\n",
    "* ShipId could be a string, but should be an integer for space saving and performance reasons <a href=\"https://stackoverflow.com/questions/2551776/database-design-primay-key-id-vs-string\">(source)</a>, but can't be a float. "
   ]
  },
  {
   "cell_type": "markdown",
   "metadata": {},
   "source": [
    "## Data about locations\n",
    "The data is collected from location information about inland waterways in the month April of the year 2020. "
   ]
  },
  {
   "cell_type": "markdown",
   "metadata": {},
   "source": [
    "## Explanation about the data\n",
    "Locations are marked water ways locations where barge sail. This could be a water way, port, terminal, etc. This data was collected by the use of multiple sources about inland water way shipping. The data consist of the following data:\n",
    "\n",
    "id - primary key of object in database\n",
    "\n",
    "code - terminal are identified by a combination of an <a href=\"https://www.unece.org/cefact/locode/service/location\">un/locode</a> and a <a href=https://www.bics.nl/?q=en>bics</a> code\n",
    "desciption - name of location\n",
    "\n",
    "type - location can be one of eight types. 1) Terminal, 2) address, 3) Lock, 4) Port, 5) waiting location, 12) area, 13) bunker station, 14) water way\n",
    "\n",
    "latitude - latitude is a geographic coordinate that specifies the north–south position of a point on the Earth's surface (<a href=https://en.wikipedia.org/wiki/Latitude>source</a>). \n",
    "\n",
    "langitude - langitude is a geographic coordinate that specifies the east–west position of a point on the Earth's surface (<a href=https://en.wikipedia.org/wiki/Longitude>source</a>).\n",
    "\n",
    "encodePolyline - Polylines in Google Maps are formed as a set of latitude/longitude pairs. In addition, for each vertex (location) in an encoded polyline, a level can be specified indicating that the location should appear on that level and any level higher (<a href=https://developers.google.com/maps/documentation/utilities/polylineutility>source</a>).\n"
   ]
  },
  {
   "cell_type": "code",
   "execution_count": 11,
   "metadata": {},
   "outputs": [
    {
     "data": {
      "text/plain": [
       "(3021, 7)"
      ]
     },
     "execution_count": 11,
     "metadata": {},
     "output_type": "execute_result"
    }
   ],
   "source": [
    "location.shape"
   ]
  },
  {
   "cell_type": "code",
   "execution_count": 12,
   "metadata": {
    "scrolled": true
   },
   "outputs": [
    {
     "name": "stdout",
     "output_type": "stream",
     "text": [
      "<class 'pandas.core.frame.DataFrame'>\n",
      "RangeIndex: 3021 entries, 0 to 3020\n",
      "Data columns (total 7 columns):\n",
      " #   Column           Non-Null Count  Dtype  \n",
      "---  ------           --------------  -----  \n",
      " 0   id               3021 non-null   int64  \n",
      " 1   code             2402 non-null   object \n",
      " 2   description      3021 non-null   object \n",
      " 3   type             3021 non-null   int64  \n",
      " 4   latitude         2883 non-null   float64\n",
      " 5   longitude        2883 non-null   float64\n",
      " 6   encodedPolyline  1424 non-null   object \n",
      "dtypes: float64(2), int64(2), object(3)\n",
      "memory usage: 165.3+ KB\n"
     ]
    }
   ],
   "source": [
    "location.info()"
   ]
  },
  {
   "cell_type": "markdown",
   "metadata": {},
   "source": [
    "## Visual assessment\n",
    "Visual assessment is done by randomly looking through multiple samples of 25 rows."
   ]
  },
  {
   "cell_type": "code",
   "execution_count": 13,
   "metadata": {
    "scrolled": true
   },
   "outputs": [
    {
     "data": {
      "text/html": [
       "<div>\n",
       "<style scoped>\n",
       "    .dataframe tbody tr th:only-of-type {\n",
       "        vertical-align: middle;\n",
       "    }\n",
       "\n",
       "    .dataframe tbody tr th {\n",
       "        vertical-align: top;\n",
       "    }\n",
       "\n",
       "    .dataframe thead th {\n",
       "        text-align: right;\n",
       "    }\n",
       "</style>\n",
       "<table border=\"1\" class=\"dataframe\">\n",
       "  <thead>\n",
       "    <tr style=\"text-align: right;\">\n",
       "      <th></th>\n",
       "      <th>id</th>\n",
       "      <th>code</th>\n",
       "      <th>description</th>\n",
       "      <th>type</th>\n",
       "      <th>latitude</th>\n",
       "      <th>longitude</th>\n",
       "      <th>encodedPolyline</th>\n",
       "    </tr>\n",
       "  </thead>\n",
       "  <tbody>\n",
       "    <tr>\n",
       "      <th>348</th>\n",
       "      <td>802</td>\n",
       "      <td>Sluice_357</td>\n",
       "      <td>Chaillevois 7</td>\n",
       "      <td>3</td>\n",
       "      <td>49.498135</td>\n",
       "      <td>3.525475</td>\n",
       "      <td>NaN</td>\n",
       "    </tr>\n",
       "    <tr>\n",
       "      <th>1558</th>\n",
       "      <td>2026</td>\n",
       "      <td>KTS</td>\n",
       "      <td>Kootstertille - Haitsma</td>\n",
       "      <td>2</td>\n",
       "      <td>53.212661</td>\n",
       "      <td>6.100231</td>\n",
       "      <td>m}wcIsdfd@dAsBaKwScAtA</td>\n",
       "    </tr>\n",
       "    <tr>\n",
       "      <th>2246</th>\n",
       "      <td>2730</td>\n",
       "      <td>NaN</td>\n",
       "      <td>Amsterdam Ertshaven</td>\n",
       "      <td>4</td>\n",
       "      <td>52.375434</td>\n",
       "      <td>4.942979</td>\n",
       "      <td>}ut~Hsnc]zLqNs@kOcB}EsBu\\kGxC|Al~@</td>\n",
       "    </tr>\n",
       "    <tr>\n",
       "      <th>1511</th>\n",
       "      <td>1978</td>\n",
       "      <td>HGM</td>\n",
       "      <td>Hillegom - Cementbouw</td>\n",
       "      <td>1</td>\n",
       "      <td>52.287269</td>\n",
       "      <td>4.588916</td>\n",
       "      <td>}mc~H}i_[|BvBTwA{BqB</td>\n",
       "    </tr>\n",
       "    <tr>\n",
       "      <th>1872</th>\n",
       "      <td>2356</td>\n",
       "      <td>HETER</td>\n",
       "      <td>Heteren</td>\n",
       "      <td>2</td>\n",
       "      <td>51.964947</td>\n",
       "      <td>5.749454</td>\n",
       "      <td>kge|H}dab@`^ylApM~MsCddA_g@yC</td>\n",
       "    </tr>\n",
       "    <tr>\n",
       "      <th>338</th>\n",
       "      <td>792</td>\n",
       "      <td>Sluice_347</td>\n",
       "      <td>Grand-Verly 17</td>\n",
       "      <td>3</td>\n",
       "      <td>49.945843</td>\n",
       "      <td>3.592409</td>\n",
       "      <td>NaN</td>\n",
       "    </tr>\n",
       "    <tr>\n",
       "      <th>1689</th>\n",
       "      <td>2173</td>\n",
       "      <td>HIA</td>\n",
       "      <td>Hendrik-Ido-Ambacht - Van der Waal</td>\n",
       "      <td>2</td>\n",
       "      <td>51.841014</td>\n",
       "      <td>4.658992</td>\n",
       "      <td>ell{Hu_m[EaBnIo@BzA</td>\n",
       "    </tr>\n",
       "    <tr>\n",
       "      <th>772</th>\n",
       "      <td>1226</td>\n",
       "      <td>Sluice_784</td>\n",
       "      <td>Saint-Martin 10</td>\n",
       "      <td>3</td>\n",
       "      <td>48.218341</td>\n",
       "      <td>3.265707</td>\n",
       "      <td>NaN</td>\n",
       "    </tr>\n",
       "    <tr>\n",
       "      <th>721</th>\n",
       "      <td>1175</td>\n",
       "      <td>Sluice_733</td>\n",
       "      <td>Pacy 83</td>\n",
       "      <td>3</td>\n",
       "      <td>47.783879</td>\n",
       "      <td>4.086667</td>\n",
       "      <td>NaN</td>\n",
       "    </tr>\n",
       "    <tr>\n",
       "      <th>2872</th>\n",
       "      <td>3386</td>\n",
       "      <td>NaN</td>\n",
       "      <td>Regensburg</td>\n",
       "      <td>4</td>\n",
       "      <td>49.024148</td>\n",
       "      <td>12.096806</td>\n",
       "      <td>avfjHejuhAqIse@vMasCjRi{G~jAslFv\\{KtB~~A{gAdyJ...</td>\n",
       "    </tr>\n",
       "    <tr>\n",
       "      <th>320</th>\n",
       "      <td>774</td>\n",
       "      <td>Sluice_329</td>\n",
       "      <td>Berthenicourt 31</td>\n",
       "      <td>3</td>\n",
       "      <td>49.769467</td>\n",
       "      <td>3.389892</td>\n",
       "      <td>NaN</td>\n",
       "    </tr>\n",
       "    <tr>\n",
       "      <th>2988</th>\n",
       "      <td>3502</td>\n",
       "      <td>NaN</td>\n",
       "      <td>Leiden - Aalsmeer</td>\n",
       "      <td>14</td>\n",
       "      <td>52.152177</td>\n",
       "      <td>4.549885</td>\n",
       "      <td>obg}H}xsZrBiKsfC_yF}^sqAdH}zBit@ggCsr@wdAxMc`B...</td>\n",
       "    </tr>\n",
       "    <tr>\n",
       "      <th>932</th>\n",
       "      <td>1386</td>\n",
       "      <td>Sluice_944</td>\n",
       "      <td>Brusson 68</td>\n",
       "      <td>3</td>\n",
       "      <td>48.747293</td>\n",
       "      <td>4.697632</td>\n",
       "      <td>NaN</td>\n",
       "    </tr>\n",
       "    <tr>\n",
       "      <th>1555</th>\n",
       "      <td>2023</td>\n",
       "      <td>HBL</td>\n",
       "      <td>Hoogblokland - Gebr. van Kessel Wegenbouw B.V.</td>\n",
       "      <td>1</td>\n",
       "      <td>51.890219</td>\n",
       "      <td>4.996172</td>\n",
       "      <td>}_v{Hcyn]DlEvJyCD{D</td>\n",
       "    </tr>\n",
       "    <tr>\n",
       "      <th>181</th>\n",
       "      <td>635</td>\n",
       "      <td>Sluice_190</td>\n",
       "      <td>Obere Schleuse Minden</td>\n",
       "      <td>3</td>\n",
       "      <td>52.302943</td>\n",
       "      <td>8.940874</td>\n",
       "      <td>NaN</td>\n",
       "    </tr>\n",
       "    <tr>\n",
       "      <th>2283</th>\n",
       "      <td>2767</td>\n",
       "      <td>NaN</td>\n",
       "      <td>Amsterdam Australiehaven</td>\n",
       "      <td>4</td>\n",
       "      <td>52.410818</td>\n",
       "      <td>4.785147</td>\n",
       "      <td>_v{~Hqkd\\hR?s@y_Bi@FRqG_@kSuEYIbb@oGGYvzA</td>\n",
       "    </tr>\n",
       "    <tr>\n",
       "      <th>1087</th>\n",
       "      <td>1541</td>\n",
       "      <td>Sluice_1099</td>\n",
       "      <td>Danne-et-Quatre-Vents 24</td>\n",
       "      <td>3</td>\n",
       "      <td>48.733318</td>\n",
       "      <td>7.281971</td>\n",
       "      <td>NaN</td>\n",
       "    </tr>\n",
       "    <tr>\n",
       "      <th>2712</th>\n",
       "      <td>3226</td>\n",
       "      <td>NLVENHPVRT</td>\n",
       "      <td>Hutchison Ports Venlo Rail</td>\n",
       "      <td>1</td>\n",
       "      <td>51.391590</td>\n",
       "      <td>6.132627</td>\n",
       "      <td>ynsxH}ykd@uBtFu[ef@tBuE\\r\\n</td>\n",
       "    </tr>\n",
       "    <tr>\n",
       "      <th>2511</th>\n",
       "      <td>3025</td>\n",
       "      <td>DEKAEKALAG</td>\n",
       "      <td>Wincanton Karlsruhe</td>\n",
       "      <td>1</td>\n",
       "      <td>49.016841</td>\n",
       "      <td>8.337926</td>\n",
       "      <td>yudjHo|{q@bGOKn[}F[</td>\n",
       "    </tr>\n",
       "    <tr>\n",
       "      <th>2483</th>\n",
       "      <td>2997</td>\n",
       "      <td>DEDUI00RRT</td>\n",
       "      <td>Rhein Ruhr Term. Parallelhafen</td>\n",
       "      <td>1</td>\n",
       "      <td>51.380446</td>\n",
       "      <td>6.729791</td>\n",
       "      <td>kcqxH__bh@_Tr[sJdDwKwXzKqP</td>\n",
       "    </tr>\n",
       "    <tr>\n",
       "      <th>1567</th>\n",
       "      <td>2051</td>\n",
       "      <td>AUG</td>\n",
       "      <td>Augustinusga - Mineralis Blauforlaet</td>\n",
       "      <td>2</td>\n",
       "      <td>53.227310</td>\n",
       "      <td>6.173015</td>\n",
       "      <td>{uzcI}utd@PtCuGxLcF{RvAqC</td>\n",
       "    </tr>\n",
       "    <tr>\n",
       "      <th>0</th>\n",
       "      <td>454</td>\n",
       "      <td>Sluice_3</td>\n",
       "      <td>Volkeraksluizen</td>\n",
       "      <td>3</td>\n",
       "      <td>51.690344</td>\n",
       "      <td>4.409129</td>\n",
       "      <td>NaN</td>\n",
       "    </tr>\n",
       "    <tr>\n",
       "      <th>2967</th>\n",
       "      <td>3481</td>\n",
       "      <td>NaN</td>\n",
       "      <td>Dintelsas - Oosterhout</td>\n",
       "      <td>14</td>\n",
       "      <td>51.618827</td>\n",
       "      <td>4.518127</td>\n",
       "      <td>eogzHo_uYiJc^ri@}gArS_k@|t@uu@hZwpBhJ}i@psAijB...</td>\n",
       "    </tr>\n",
       "    <tr>\n",
       "      <th>619</th>\n",
       "      <td>1073</td>\n",
       "      <td>Sluice_630</td>\n",
       "      <td>Pont-d'Ouche 20</td>\n",
       "      <td>3</td>\n",
       "      <td>47.166705</td>\n",
       "      <td>4.703976</td>\n",
       "      <td>NaN</td>\n",
       "    </tr>\n",
       "    <tr>\n",
       "      <th>2247</th>\n",
       "      <td>2731</td>\n",
       "      <td>NaN</td>\n",
       "      <td>Amsterdam Entrepothaven</td>\n",
       "      <td>4</td>\n",
       "      <td>52.370218</td>\n",
       "      <td>4.945285</td>\n",
       "      <td>gqs~Hgrc]pDGEazAcKxAuBmE_BxJnBb\\hCTjDts@</td>\n",
       "    </tr>\n",
       "  </tbody>\n",
       "</table>\n",
       "</div>"
      ],
      "text/plain": [
       "        id         code                                     description  type  \\\n",
       "348    802   Sluice_357                                   Chaillevois 7     3   \n",
       "1558  2026          KTS                         Kootstertille - Haitsma     2   \n",
       "2246  2730          NaN                             Amsterdam Ertshaven     4   \n",
       "1511  1978          HGM                           Hillegom - Cementbouw     1   \n",
       "1872  2356        HETER                                         Heteren     2   \n",
       "338    792   Sluice_347                                  Grand-Verly 17     3   \n",
       "1689  2173          HIA              Hendrik-Ido-Ambacht - Van der Waal     2   \n",
       "772   1226   Sluice_784                                 Saint-Martin 10     3   \n",
       "721   1175   Sluice_733                                         Pacy 83     3   \n",
       "2872  3386          NaN                                      Regensburg     4   \n",
       "320    774   Sluice_329                                Berthenicourt 31     3   \n",
       "2988  3502          NaN                               Leiden - Aalsmeer    14   \n",
       "932   1386   Sluice_944                                      Brusson 68     3   \n",
       "1555  2023          HBL  Hoogblokland - Gebr. van Kessel Wegenbouw B.V.     1   \n",
       "181    635   Sluice_190                           Obere Schleuse Minden     3   \n",
       "2283  2767          NaN                        Amsterdam Australiehaven     4   \n",
       "1087  1541  Sluice_1099                        Danne-et-Quatre-Vents 24     3   \n",
       "2712  3226   NLVENHPVRT                      Hutchison Ports Venlo Rail     1   \n",
       "2511  3025   DEKAEKALAG                             Wincanton Karlsruhe     1   \n",
       "2483  2997   DEDUI00RRT                  Rhein Ruhr Term. Parallelhafen     1   \n",
       "1567  2051          AUG            Augustinusga - Mineralis Blauforlaet     2   \n",
       "0      454     Sluice_3                                 Volkeraksluizen     3   \n",
       "2967  3481          NaN                          Dintelsas - Oosterhout    14   \n",
       "619   1073   Sluice_630                                 Pont-d'Ouche 20     3   \n",
       "2247  2731          NaN                         Amsterdam Entrepothaven     4   \n",
       "\n",
       "       latitude  longitude                                    encodedPolyline  \n",
       "348   49.498135   3.525475                                                NaN  \n",
       "1558  53.212661   6.100231                             m}wcIsdfd@dAsBaKwScAtA  \n",
       "2246  52.375434   4.942979                 }ut~Hsnc]zLqNs@kOcB}EsBu\\kGxC|Al~@  \n",
       "1511  52.287269   4.588916                               }mc~H}i_[|BvBTwA{BqB  \n",
       "1872  51.964947   5.749454                      kge|H}dab@`^ylApM~MsCddA_g@yC  \n",
       "338   49.945843   3.592409                                                NaN  \n",
       "1689  51.841014   4.658992                                ell{Hu_m[EaBnIo@BzA  \n",
       "772   48.218341   3.265707                                                NaN  \n",
       "721   47.783879   4.086667                                                NaN  \n",
       "2872  49.024148  12.096806  avfjHejuhAqIse@vMasCjRi{G~jAslFv\\{KtB~~A{gAdyJ...  \n",
       "320   49.769467   3.389892                                                NaN  \n",
       "2988  52.152177   4.549885  obg}H}xsZrBiKsfC_yF}^sqAdH}zBit@ggCsr@wdAxMc`B...  \n",
       "932   48.747293   4.697632                                                NaN  \n",
       "1555  51.890219   4.996172                                }_v{Hcyn]DlEvJyCD{D  \n",
       "181   52.302943   8.940874                                                NaN  \n",
       "2283  52.410818   4.785147          _v{~Hqkd\\hR?s@y_Bi@FRqG_@kSuEYIbb@oGGYvzA  \n",
       "1087  48.733318   7.281971                                                NaN  \n",
       "2712  51.391590   6.132627                        ynsxH}ykd@uBtFu[ef@tBuE\\r\\n  \n",
       "2511  49.016841   8.337926                                yudjHo|{q@bGOKn[}F[  \n",
       "2483  51.380446   6.729791                         kcqxH__bh@_Tr[sJdDwKwXzKqP  \n",
       "1567  53.227310   6.173015                          {uzcI}utd@PtCuGxLcF{RvAqC  \n",
       "0     51.690344   4.409129                                                NaN  \n",
       "2967  51.618827   4.518127  eogzHo_uYiJc^ri@}gArS_k@|t@uu@hZwpBhJ}i@psAijB...  \n",
       "619   47.166705   4.703976                                                NaN  \n",
       "2247  52.370218   4.945285           gqs~Hgrc]pDGEazAcKxAuBmE_BxJnBb\\hCTjDts@  "
      ]
     },
     "execution_count": 13,
     "metadata": {},
     "output_type": "execute_result"
    }
   ],
   "source": [
    "location.sample(25)"
   ]
  },
  {
   "cell_type": "markdown",
   "metadata": {},
   "source": [
    "some locations seem to be missing encodePolylines and other lat/long. We'll investigate further in programmatic assessment. \n",
    "\n",
    "Codes are missing for some locations, which shouldn't be a problem. Codes should only be an additional value for terminals or ports.\n",
    "\n",
    "ID is a primary key which isn't relevant for this research and can be removed."
   ]
  },
  {
   "cell_type": "markdown",
   "metadata": {},
   "source": [
    "### Programmatic assessment"
   ]
  },
  {
   "cell_type": "code",
   "execution_count": 14,
   "metadata": {
    "scrolled": true
   },
   "outputs": [
    {
     "data": {
      "text/plain": [
       "id                 10\n",
       "code               10\n",
       "description        10\n",
       "type               10\n",
       "latitude           10\n",
       "longitude          10\n",
       "encodedPolyline     3\n",
       "dtype: int64"
      ]
     },
     "execution_count": 14,
     "metadata": {},
     "output_type": "execute_result"
    }
   ],
   "source": [
    "location[location['latitude'] == 0.0].count()"
   ]
  },
  {
   "cell_type": "code",
   "execution_count": 15,
   "metadata": {
    "scrolled": true
   },
   "outputs": [
    {
     "data": {
      "text/html": [
       "<div>\n",
       "<style scoped>\n",
       "    .dataframe tbody tr th:only-of-type {\n",
       "        vertical-align: middle;\n",
       "    }\n",
       "\n",
       "    .dataframe tbody tr th {\n",
       "        vertical-align: top;\n",
       "    }\n",
       "\n",
       "    .dataframe thead th {\n",
       "        text-align: right;\n",
       "    }\n",
       "</style>\n",
       "<table border=\"1\" class=\"dataframe\">\n",
       "  <thead>\n",
       "    <tr style=\"text-align: right;\">\n",
       "      <th></th>\n",
       "      <th>id</th>\n",
       "      <th>code</th>\n",
       "      <th>description</th>\n",
       "      <th>type</th>\n",
       "      <th>latitude</th>\n",
       "      <th>longitude</th>\n",
       "      <th>encodedPolyline</th>\n",
       "    </tr>\n",
       "  </thead>\n",
       "  <tbody>\n",
       "    <tr>\n",
       "      <th>2312</th>\n",
       "      <td>2826</td>\n",
       "      <td>BEANR00234</td>\n",
       "      <td>234 ACC / Impala (K234-236)</td>\n",
       "      <td>1</td>\n",
       "      <td>0.0</td>\n",
       "      <td>0.0</td>\n",
       "      <td>ed|wH}aqYrMtWvLgUwMqY}K~T\\r\\n</td>\n",
       "    </tr>\n",
       "    <tr>\n",
       "      <th>2327</th>\n",
       "      <td>2841</td>\n",
       "      <td>BEANR00345</td>\n",
       "      <td>Katoennatie Terminals NV K345 (K345-363)</td>\n",
       "      <td>1</td>\n",
       "      <td>0.0</td>\n",
       "      <td>0.0</td>\n",
       "      <td>sxwwHsnwYi@pkCqI?dAojCvFuA\\r\\n</td>\n",
       "    </tr>\n",
       "    <tr>\n",
       "      <th>2363</th>\n",
       "      <td>2877</td>\n",
       "      <td>BEANR01624</td>\n",
       "      <td>Medrepair S11 K1624</td>\n",
       "      <td>1</td>\n",
       "      <td>0.0</td>\n",
       "      <td>0.0</td>\n",
       "      <td>m{~wHkwyXbWr\\vUw_AwOqZ\\r\\n</td>\n",
       "    </tr>\n",
       "    <tr>\n",
       "      <th>2389</th>\n",
       "      <td>2903</td>\n",
       "      <td>BEGNELYSLI</td>\n",
       "      <td>Lys-Line Belgium</td>\n",
       "      <td>1</td>\n",
       "      <td>0.0</td>\n",
       "      <td>0.0</td>\n",
       "      <td>NaN</td>\n",
       "    </tr>\n",
       "    <tr>\n",
       "      <th>2415</th>\n",
       "      <td>2929</td>\n",
       "      <td>CHBSL00HAN</td>\n",
       "      <td>Haniel Basel</td>\n",
       "      <td>1</td>\n",
       "      <td>0.0</td>\n",
       "      <td>0.0</td>\n",
       "      <td>NaN</td>\n",
       "    </tr>\n",
       "    <tr>\n",
       "      <th>2419</th>\n",
       "      <td>2933</td>\n",
       "      <td>CHBSL0SATR</td>\n",
       "      <td>Satram AG</td>\n",
       "      <td>1</td>\n",
       "      <td>0.0</td>\n",
       "      <td>0.0</td>\n",
       "      <td>NaN</td>\n",
       "    </tr>\n",
       "    <tr>\n",
       "      <th>2659</th>\n",
       "      <td>3173</td>\n",
       "      <td>NLRTM0NRBC</td>\n",
       "      <td>Ned. Repair Barce Centre</td>\n",
       "      <td>1</td>\n",
       "      <td>0.0</td>\n",
       "      <td>0.0</td>\n",
       "      <td>NaN</td>\n",
       "    </tr>\n",
       "    <tr>\n",
       "      <th>2674</th>\n",
       "      <td>3188</td>\n",
       "      <td>NLRTMECCMA</td>\n",
       "      <td>E.C.C. Madroelkade</td>\n",
       "      <td>1</td>\n",
       "      <td>0.0</td>\n",
       "      <td>0.0</td>\n",
       "      <td>NaN</td>\n",
       "    </tr>\n",
       "    <tr>\n",
       "      <th>2737</th>\n",
       "      <td>3251</td>\n",
       "      <td>TESTT12345</td>\n",
       "      <td>TEST LOCSERVICE</td>\n",
       "      <td>1</td>\n",
       "      <td>0.0</td>\n",
       "      <td>0.0</td>\n",
       "      <td>NaN</td>\n",
       "    </tr>\n",
       "    <tr>\n",
       "      <th>2738</th>\n",
       "      <td>3252</td>\n",
       "      <td>TST52TST52</td>\n",
       "      <td>Test voor inland terminal sync</td>\n",
       "      <td>1</td>\n",
       "      <td>0.0</td>\n",
       "      <td>0.0</td>\n",
       "      <td>NaN</td>\n",
       "    </tr>\n",
       "  </tbody>\n",
       "</table>\n",
       "</div>"
      ],
      "text/plain": [
       "        id        code                               description  type  \\\n",
       "2312  2826  BEANR00234               234 ACC / Impala (K234-236)     1   \n",
       "2327  2841  BEANR00345  Katoennatie Terminals NV K345 (K345-363)     1   \n",
       "2363  2877  BEANR01624                       Medrepair S11 K1624     1   \n",
       "2389  2903  BEGNELYSLI                          Lys-Line Belgium     1   \n",
       "2415  2929  CHBSL00HAN                              Haniel Basel     1   \n",
       "2419  2933  CHBSL0SATR                                 Satram AG     1   \n",
       "2659  3173  NLRTM0NRBC                  Ned. Repair Barce Centre     1   \n",
       "2674  3188  NLRTMECCMA                        E.C.C. Madroelkade     1   \n",
       "2737  3251  TESTT12345                           TEST LOCSERVICE     1   \n",
       "2738  3252  TST52TST52            Test voor inland terminal sync     1   \n",
       "\n",
       "      latitude  longitude                 encodedPolyline  \n",
       "2312       0.0        0.0   ed|wH}aqYrMtWvLgUwMqY}K~T\\r\\n  \n",
       "2327       0.0        0.0  sxwwHsnwYi@pkCqI?dAojCvFuA\\r\\n  \n",
       "2363       0.0        0.0      m{~wHkwyXbWr\\vUw_AwOqZ\\r\\n  \n",
       "2389       0.0        0.0                             NaN  \n",
       "2415       0.0        0.0                             NaN  \n",
       "2419       0.0        0.0                             NaN  \n",
       "2659       0.0        0.0                             NaN  \n",
       "2674       0.0        0.0                             NaN  \n",
       "2737       0.0        0.0                             NaN  \n",
       "2738       0.0        0.0                             NaN  "
      ]
     },
     "execution_count": 15,
     "metadata": {},
     "output_type": "execute_result"
    }
   ],
   "source": [
    "location[location['latitude'] == 0.0]"
   ]
  },
  {
   "cell_type": "markdown",
   "metadata": {},
   "source": [
    "Signals are matched to locations by encoded polylines. 0.0 values for locations aren't a problem and the amount won't influence the results of the data"
   ]
  },
  {
   "cell_type": "markdown",
   "metadata": {},
   "source": [
    "Because the barge positions are based on the encoded polylines of the location data, all the location without encode polylines will be dropped when merging the data. Cleaning it isn't necessary, but does improve the quality."
   ]
  },
  {
   "cell_type": "markdown",
   "metadata": {},
   "source": [
    "### Conclusion"
   ]
  },
  {
   "cell_type": "markdown",
   "metadata": {},
   "source": [
    "The location data is quite good besides a couple of points:\n",
    "\n",
    "* Missing data: There're a lot of locations without encoded polylines\n",
    "* Not every column is a variable: ID is a primary key which isn't relevant for this research and can be removed.\n",
    "* Ever row is an observation: Change location type from numerical indication to catagorical indication and by doing so improve the observation"
   ]
  },
  {
   "cell_type": "markdown",
   "metadata": {},
   "source": [
    "## Data about barges (ships)\n",
    "Barges used for transporting oil and minerals are tankers. Data comes from an open sources databank about barges."
   ]
  },
  {
   "cell_type": "markdown",
   "metadata": {},
   "source": [
    "### Explanation \n"
   ]
  },
  {
   "cell_type": "markdown",
   "metadata": {},
   "source": [
    "In the data barges are named as catagorizd as ships. A barge is a specific type of ship for inland cargo transportation. The data is as follows:\n",
    "\n",
    "- Id : primary key of object in database\n",
    "\n",
    "- Name : Name of barge\n",
    "\n",
    "- ENI : Europe identification number of barge (<a href=\"https://en.wikipedia.org/wiki/ENI_number\">Sources</a>)\n",
    "\n",
    "- MMSI  : Identification number for AIS signals (<a href=\"https://nl.wikipedia.org/wiki/Automatic_Identification_System\">Source</a>)\n",
    "\n",
    "- TypeId : Type indicates cargo carried on barge. 5) is a tanker, the barge type we're interested in.\n",
    "\n",
    "- Classification : Barges are classified in different catagories depending on size, cargo and tonnage (<a href=\"https://www.bureauvoorlichtingbinnenvaart.nl/assets/files/Scheepstypen_2019_hr.pdf\">Source</a>)\n",
    "\n",
    "- CapacityTon : Amount of cargo that can be planned on a barge measured in ton, used for bulk cargo.\n",
    "\n",
    "- CapacityTeu : Amount of containers that can be planned on a barge measured in <a href=\"https://en.wikipedia.org/wiki/Twenty-foot_equivalent_unit\">TEU</a>, used for bulk cargo.\n",
    "\n",
    "- lenghtCm : lenght of barge in cm. \n",
    "\n",
    "- widthCm : widht of barge in cm."
   ]
  },
  {
   "cell_type": "code",
   "execution_count": 16,
   "metadata": {
    "scrolled": true
   },
   "outputs": [
    {
     "name": "stdout",
     "output_type": "stream",
     "text": [
      "<class 'pandas.core.frame.DataFrame'>\n",
      "RangeIndex: 136 entries, 0 to 135\n",
      "Data columns (total 10 columns):\n",
      " #   Column          Non-Null Count  Dtype  \n",
      "---  ------          --------------  -----  \n",
      " 0   id              136 non-null    int64  \n",
      " 1   name            136 non-null    object \n",
      " 2   ENI             133 non-null    float64\n",
      " 3   MMSI            136 non-null    int64  \n",
      " 4   TypeId          129 non-null    float64\n",
      " 5   classification  128 non-null    float64\n",
      " 6   capacityTon     109 non-null    float64\n",
      " 7   capacityTeu     0 non-null      float64\n",
      " 8   lengthCm        128 non-null    float64\n",
      " 9   widthCm         128 non-null    float64\n",
      "dtypes: float64(7), int64(2), object(1)\n",
      "memory usage: 10.8+ KB\n"
     ]
    }
   ],
   "source": [
    "ships.info()"
   ]
  },
  {
   "cell_type": "code",
   "execution_count": 17,
   "metadata": {},
   "outputs": [
    {
     "data": {
      "text/plain": [
       "(136, 10)"
      ]
     },
     "execution_count": 17,
     "metadata": {},
     "output_type": "execute_result"
    }
   ],
   "source": [
    "ships.shape"
   ]
  },
  {
   "cell_type": "markdown",
   "metadata": {},
   "source": [
    "### Visual assessment\n",
    "Visual assessment is done by randomly looking through multiple samples of 25 rows."
   ]
  },
  {
   "cell_type": "code",
   "execution_count": 18,
   "metadata": {
    "scrolled": false
   },
   "outputs": [
    {
     "data": {
      "text/html": [
       "<div>\n",
       "<style scoped>\n",
       "    .dataframe tbody tr th:only-of-type {\n",
       "        vertical-align: middle;\n",
       "    }\n",
       "\n",
       "    .dataframe tbody tr th {\n",
       "        vertical-align: top;\n",
       "    }\n",
       "\n",
       "    .dataframe thead th {\n",
       "        text-align: right;\n",
       "    }\n",
       "</style>\n",
       "<table border=\"1\" class=\"dataframe\">\n",
       "  <thead>\n",
       "    <tr style=\"text-align: right;\">\n",
       "      <th></th>\n",
       "      <th>id</th>\n",
       "      <th>name</th>\n",
       "      <th>ENI</th>\n",
       "      <th>MMSI</th>\n",
       "      <th>TypeId</th>\n",
       "      <th>classification</th>\n",
       "      <th>capacityTon</th>\n",
       "      <th>capacityTeu</th>\n",
       "      <th>lengthCm</th>\n",
       "      <th>widthCm</th>\n",
       "    </tr>\n",
       "  </thead>\n",
       "  <tbody>\n",
       "    <tr>\n",
       "      <th>96</th>\n",
       "      <td>989</td>\n",
       "      <td>Chubasco</td>\n",
       "      <td>2324744.0</td>\n",
       "      <td>244660422</td>\n",
       "      <td>5.0</td>\n",
       "      <td>5.0</td>\n",
       "      <td>NaN</td>\n",
       "      <td>NaN</td>\n",
       "      <td>10850.0</td>\n",
       "      <td>1140.0</td>\n",
       "    </tr>\n",
       "    <tr>\n",
       "      <th>30</th>\n",
       "      <td>844</td>\n",
       "      <td>Convenant</td>\n",
       "      <td>2333235.0</td>\n",
       "      <td>244670865</td>\n",
       "      <td>5.0</td>\n",
       "      <td>5.0</td>\n",
       "      <td>4384.0</td>\n",
       "      <td>NaN</td>\n",
       "      <td>11000.0</td>\n",
       "      <td>1350.0</td>\n",
       "    </tr>\n",
       "    <tr>\n",
       "      <th>127</th>\n",
       "      <td>1200</td>\n",
       "      <td>Cotrans 2</td>\n",
       "      <td>3021429.0</td>\n",
       "      <td>244660605</td>\n",
       "      <td>2.0</td>\n",
       "      <td>1.0</td>\n",
       "      <td>900.0</td>\n",
       "      <td>NaN</td>\n",
       "      <td>7000.0</td>\n",
       "      <td>800.0</td>\n",
       "    </tr>\n",
       "    <tr>\n",
       "      <th>132</th>\n",
       "      <td>1208</td>\n",
       "      <td>Cotrans 3</td>\n",
       "      <td>2315519.0</td>\n",
       "      <td>244660606</td>\n",
       "      <td>2.0</td>\n",
       "      <td>1.0</td>\n",
       "      <td>1060.0</td>\n",
       "      <td>NaN</td>\n",
       "      <td>7300.0</td>\n",
       "      <td>740.0</td>\n",
       "    </tr>\n",
       "    <tr>\n",
       "      <th>22</th>\n",
       "      <td>836</td>\n",
       "      <td>Amistade</td>\n",
       "      <td>2332451.0</td>\n",
       "      <td>244650553</td>\n",
       "      <td>5.0</td>\n",
       "      <td>5.0</td>\n",
       "      <td>6580.0</td>\n",
       "      <td>NaN</td>\n",
       "      <td>13500.0</td>\n",
       "      <td>1508.0</td>\n",
       "    </tr>\n",
       "    <tr>\n",
       "      <th>101</th>\n",
       "      <td>994</td>\n",
       "      <td>Toba</td>\n",
       "      <td>2333754.0</td>\n",
       "      <td>244700594</td>\n",
       "      <td>5.0</td>\n",
       "      <td>5.0</td>\n",
       "      <td>NaN</td>\n",
       "      <td>NaN</td>\n",
       "      <td>14000.0</td>\n",
       "      <td>1140.0</td>\n",
       "    </tr>\n",
       "    <tr>\n",
       "      <th>121</th>\n",
       "      <td>1059</td>\n",
       "      <td>Malta</td>\n",
       "      <td>2335400.0</td>\n",
       "      <td>244700043</td>\n",
       "      <td>5.0</td>\n",
       "      <td>5.0</td>\n",
       "      <td>2865.0</td>\n",
       "      <td>NaN</td>\n",
       "      <td>11000.0</td>\n",
       "      <td>1150.0</td>\n",
       "    </tr>\n",
       "    <tr>\n",
       "      <th>13</th>\n",
       "      <td>787</td>\n",
       "      <td>Schip1</td>\n",
       "      <td>1.0</td>\n",
       "      <td>244020488</td>\n",
       "      <td>NaN</td>\n",
       "      <td>NaN</td>\n",
       "      <td>2750.0</td>\n",
       "      <td>NaN</td>\n",
       "      <td>10990.0</td>\n",
       "      <td>1145.0</td>\n",
       "    </tr>\n",
       "    <tr>\n",
       "      <th>12</th>\n",
       "      <td>785</td>\n",
       "      <td>Delta Hopper</td>\n",
       "      <td>12342678.0</td>\n",
       "      <td>12421453</td>\n",
       "      <td>2.0</td>\n",
       "      <td>1.0</td>\n",
       "      <td>1008.0</td>\n",
       "      <td>NaN</td>\n",
       "      <td>7000.0</td>\n",
       "      <td>750.0</td>\n",
       "    </tr>\n",
       "    <tr>\n",
       "      <th>15</th>\n",
       "      <td>828</td>\n",
       "      <td>Jeanine</td>\n",
       "      <td>2332323.0</td>\n",
       "      <td>222582345</td>\n",
       "      <td>5.0</td>\n",
       "      <td>5.0</td>\n",
       "      <td>6445.0</td>\n",
       "      <td>NaN</td>\n",
       "      <td>13500.0</td>\n",
       "      <td>1500.0</td>\n",
       "    </tr>\n",
       "    <tr>\n",
       "      <th>88</th>\n",
       "      <td>981</td>\n",
       "      <td>Sascha</td>\n",
       "      <td>4811140.0</td>\n",
       "      <td>211623180</td>\n",
       "      <td>5.0</td>\n",
       "      <td>5.0</td>\n",
       "      <td>2037.0</td>\n",
       "      <td>NaN</td>\n",
       "      <td>8500.0</td>\n",
       "      <td>1140.0</td>\n",
       "    </tr>\n",
       "    <tr>\n",
       "      <th>69</th>\n",
       "      <td>962</td>\n",
       "      <td>MTS Von Humboldt</td>\n",
       "      <td>2322846.0</td>\n",
       "      <td>244660392</td>\n",
       "      <td>5.0</td>\n",
       "      <td>5.0</td>\n",
       "      <td>3548.0</td>\n",
       "      <td>NaN</td>\n",
       "      <td>11000.0</td>\n",
       "      <td>1138.0</td>\n",
       "    </tr>\n",
       "    <tr>\n",
       "      <th>133</th>\n",
       "      <td>1210</td>\n",
       "      <td>Dolce Mare</td>\n",
       "      <td>2323957.0</td>\n",
       "      <td>244790251</td>\n",
       "      <td>4.0</td>\n",
       "      <td>6.0</td>\n",
       "      <td>50000.0</td>\n",
       "      <td>NaN</td>\n",
       "      <td>17200.0</td>\n",
       "      <td>1145.0</td>\n",
       "    </tr>\n",
       "    <tr>\n",
       "      <th>82</th>\n",
       "      <td>975</td>\n",
       "      <td>STAD STAVOREN (DH)</td>\n",
       "      <td>2334662.0</td>\n",
       "      <td>244770838</td>\n",
       "      <td>5.0</td>\n",
       "      <td>5.0</td>\n",
       "      <td>1550.0</td>\n",
       "      <td>NaN</td>\n",
       "      <td>8600.0</td>\n",
       "      <td>960.0</td>\n",
       "    </tr>\n",
       "    <tr>\n",
       "      <th>135</th>\n",
       "      <td>1212</td>\n",
       "      <td>Vrido I</td>\n",
       "      <td>2328232.0</td>\n",
       "      <td>244700661</td>\n",
       "      <td>5.0</td>\n",
       "      <td>6.0</td>\n",
       "      <td>5500.0</td>\n",
       "      <td>NaN</td>\n",
       "      <td>18500.0</td>\n",
       "      <td>1145.0</td>\n",
       "    </tr>\n",
       "    <tr>\n",
       "      <th>10</th>\n",
       "      <td>783</td>\n",
       "      <td>MS JRS Corvus</td>\n",
       "      <td>9339105.0</td>\n",
       "      <td>210751000</td>\n",
       "      <td>NaN</td>\n",
       "      <td>NaN</td>\n",
       "      <td>NaN</td>\n",
       "      <td>NaN</td>\n",
       "      <td>NaN</td>\n",
       "      <td>NaN</td>\n",
       "    </tr>\n",
       "    <tr>\n",
       "      <th>70</th>\n",
       "      <td>963</td>\n",
       "      <td>MTS Tolerantie</td>\n",
       "      <td>2328308.0</td>\n",
       "      <td>244670697</td>\n",
       "      <td>5.0</td>\n",
       "      <td>5.0</td>\n",
       "      <td>3000.0</td>\n",
       "      <td>NaN</td>\n",
       "      <td>11000.0</td>\n",
       "      <td>1140.0</td>\n",
       "    </tr>\n",
       "    <tr>\n",
       "      <th>49</th>\n",
       "      <td>916</td>\n",
       "      <td>Denver</td>\n",
       "      <td>2321340.0</td>\n",
       "      <td>244650106</td>\n",
       "      <td>5.0</td>\n",
       "      <td>5.0</td>\n",
       "      <td>1495.0</td>\n",
       "      <td>NaN</td>\n",
       "      <td>8574.0</td>\n",
       "      <td>1050.0</td>\n",
       "    </tr>\n",
       "    <tr>\n",
       "      <th>124</th>\n",
       "      <td>1197</td>\n",
       "      <td>Cotrans 1</td>\n",
       "      <td>2314566.0</td>\n",
       "      <td>244660614</td>\n",
       "      <td>2.0</td>\n",
       "      <td>1.0</td>\n",
       "      <td>1300.0</td>\n",
       "      <td>NaN</td>\n",
       "      <td>8000.0</td>\n",
       "      <td>860.0</td>\n",
       "    </tr>\n",
       "    <tr>\n",
       "      <th>129</th>\n",
       "      <td>1202</td>\n",
       "      <td>Cotrans 10</td>\n",
       "      <td>2318710.0</td>\n",
       "      <td>244620974</td>\n",
       "      <td>2.0</td>\n",
       "      <td>1.0</td>\n",
       "      <td>1010.0</td>\n",
       "      <td>NaN</td>\n",
       "      <td>7000.0</td>\n",
       "      <td>739.0</td>\n",
       "    </tr>\n",
       "    <tr>\n",
       "      <th>18</th>\n",
       "      <td>832</td>\n",
       "      <td>Atlantic Pride</td>\n",
       "      <td>2327381.0</td>\n",
       "      <td>244670063</td>\n",
       "      <td>5.0</td>\n",
       "      <td>5.0</td>\n",
       "      <td>5718.0</td>\n",
       "      <td>NaN</td>\n",
       "      <td>13500.0</td>\n",
       "      <td>1350.0</td>\n",
       "    </tr>\n",
       "    <tr>\n",
       "      <th>81</th>\n",
       "      <td>974</td>\n",
       "      <td>Luana</td>\n",
       "      <td>2333110.0</td>\n",
       "      <td>244670312</td>\n",
       "      <td>5.0</td>\n",
       "      <td>5.0</td>\n",
       "      <td>3214.0</td>\n",
       "      <td>NaN</td>\n",
       "      <td>11000.0</td>\n",
       "      <td>1140.0</td>\n",
       "    </tr>\n",
       "    <tr>\n",
       "      <th>108</th>\n",
       "      <td>1001</td>\n",
       "      <td>Shamal</td>\n",
       "      <td>6004247.0</td>\n",
       "      <td>205382790</td>\n",
       "      <td>5.0</td>\n",
       "      <td>5.0</td>\n",
       "      <td>NaN</td>\n",
       "      <td>NaN</td>\n",
       "      <td>10650.0</td>\n",
       "      <td>1140.0</td>\n",
       "    </tr>\n",
       "    <tr>\n",
       "      <th>60</th>\n",
       "      <td>927</td>\n",
       "      <td>Boston</td>\n",
       "      <td>2332790.0</td>\n",
       "      <td>244670638</td>\n",
       "      <td>5.0</td>\n",
       "      <td>5.0</td>\n",
       "      <td>3620.0</td>\n",
       "      <td>NaN</td>\n",
       "      <td>11000.0</td>\n",
       "      <td>1145.0</td>\n",
       "    </tr>\n",
       "    <tr>\n",
       "      <th>99</th>\n",
       "      <td>992</td>\n",
       "      <td>Otto</td>\n",
       "      <td>2104699.0</td>\n",
       "      <td>244710042</td>\n",
       "      <td>5.0</td>\n",
       "      <td>5.0</td>\n",
       "      <td>NaN</td>\n",
       "      <td>NaN</td>\n",
       "      <td>NaN</td>\n",
       "      <td>NaN</td>\n",
       "    </tr>\n",
       "  </tbody>\n",
       "</table>\n",
       "</div>"
      ],
      "text/plain": [
       "       id                name         ENI       MMSI  TypeId  classification  \\\n",
       "96    989            Chubasco   2324744.0  244660422     5.0             5.0   \n",
       "30    844           Convenant   2333235.0  244670865     5.0             5.0   \n",
       "127  1200           Cotrans 2   3021429.0  244660605     2.0             1.0   \n",
       "132  1208           Cotrans 3   2315519.0  244660606     2.0             1.0   \n",
       "22    836            Amistade   2332451.0  244650553     5.0             5.0   \n",
       "101   994                Toba   2333754.0  244700594     5.0             5.0   \n",
       "121  1059               Malta   2335400.0  244700043     5.0             5.0   \n",
       "13    787              Schip1         1.0  244020488     NaN             NaN   \n",
       "12    785        Delta Hopper  12342678.0   12421453     2.0             1.0   \n",
       "15    828             Jeanine   2332323.0  222582345     5.0             5.0   \n",
       "88    981              Sascha   4811140.0  211623180     5.0             5.0   \n",
       "69    962    MTS Von Humboldt   2322846.0  244660392     5.0             5.0   \n",
       "133  1210          Dolce Mare   2323957.0  244790251     4.0             6.0   \n",
       "82    975  STAD STAVOREN (DH)   2334662.0  244770838     5.0             5.0   \n",
       "135  1212             Vrido I   2328232.0  244700661     5.0             6.0   \n",
       "10    783       MS JRS Corvus   9339105.0  210751000     NaN             NaN   \n",
       "70    963      MTS Tolerantie   2328308.0  244670697     5.0             5.0   \n",
       "49    916              Denver   2321340.0  244650106     5.0             5.0   \n",
       "124  1197           Cotrans 1   2314566.0  244660614     2.0             1.0   \n",
       "129  1202          Cotrans 10   2318710.0  244620974     2.0             1.0   \n",
       "18    832      Atlantic Pride   2327381.0  244670063     5.0             5.0   \n",
       "81    974               Luana   2333110.0  244670312     5.0             5.0   \n",
       "108  1001              Shamal   6004247.0  205382790     5.0             5.0   \n",
       "60    927              Boston   2332790.0  244670638     5.0             5.0   \n",
       "99    992                Otto   2104699.0  244710042     5.0             5.0   \n",
       "\n",
       "     capacityTon  capacityTeu  lengthCm  widthCm  \n",
       "96           NaN          NaN   10850.0   1140.0  \n",
       "30        4384.0          NaN   11000.0   1350.0  \n",
       "127        900.0          NaN    7000.0    800.0  \n",
       "132       1060.0          NaN    7300.0    740.0  \n",
       "22        6580.0          NaN   13500.0   1508.0  \n",
       "101          NaN          NaN   14000.0   1140.0  \n",
       "121       2865.0          NaN   11000.0   1150.0  \n",
       "13        2750.0          NaN   10990.0   1145.0  \n",
       "12        1008.0          NaN    7000.0    750.0  \n",
       "15        6445.0          NaN   13500.0   1500.0  \n",
       "88        2037.0          NaN    8500.0   1140.0  \n",
       "69        3548.0          NaN   11000.0   1138.0  \n",
       "133      50000.0          NaN   17200.0   1145.0  \n",
       "82        1550.0          NaN    8600.0    960.0  \n",
       "135       5500.0          NaN   18500.0   1145.0  \n",
       "10           NaN          NaN       NaN      NaN  \n",
       "70        3000.0          NaN   11000.0   1140.0  \n",
       "49        1495.0          NaN    8574.0   1050.0  \n",
       "124       1300.0          NaN    8000.0    860.0  \n",
       "129       1010.0          NaN    7000.0    739.0  \n",
       "18        5718.0          NaN   13500.0   1350.0  \n",
       "81        3214.0          NaN   11000.0   1140.0  \n",
       "108          NaN          NaN   10650.0   1140.0  \n",
       "60        3620.0          NaN   11000.0   1145.0  \n",
       "99           NaN          NaN       NaN      NaN  "
      ]
     },
     "execution_count": 18,
     "metadata": {},
     "output_type": "execute_result"
    }
   ],
   "source": [
    "ships.sample(25)"
   ]
  },
  {
   "cell_type": "markdown",
   "metadata": {},
   "source": [
    "ENI of \"ship 1\" seems to be invalid. Probably a dummy vessel.<br>Some barges don't have a capacity, lenght or width.<br>\n",
    "Some barges aren't tanker barges but other barges (typId 2) or don't have a typeId (NaN)<br>\n",
    "Multiple columns seem to have incorrect type\n",
    "\n",
    "TypeId should say Tanker. A number doesn't add value.<br>CapacityTeu and classification aren't relevant<br>barge could be catagorized based on lenght or square meters.<br>Barge dimensions are in Cm. Meters are beter suited. Column with catagories XS, S, M , L, XL could be better for analytics and created by calculating and catagorizing the square meters."
   ]
  },
  {
   "cell_type": "markdown",
   "metadata": {},
   "source": [
    "### Programmatic assessment"
   ]
  },
  {
   "cell_type": "code",
   "execution_count": 19,
   "metadata": {
    "scrolled": true
   },
   "outputs": [
    {
     "name": "stdout",
     "output_type": "stream",
     "text": [
      "<class 'pandas.core.frame.DataFrame'>\n",
      "RangeIndex: 136 entries, 0 to 135\n",
      "Data columns (total 10 columns):\n",
      " #   Column          Non-Null Count  Dtype  \n",
      "---  ------          --------------  -----  \n",
      " 0   id              136 non-null    int64  \n",
      " 1   name            136 non-null    object \n",
      " 2   ENI             133 non-null    float64\n",
      " 3   MMSI            136 non-null    int64  \n",
      " 4   TypeId          129 non-null    float64\n",
      " 5   classification  128 non-null    float64\n",
      " 6   capacityTon     109 non-null    float64\n",
      " 7   capacityTeu     0 non-null      float64\n",
      " 8   lengthCm        128 non-null    float64\n",
      " 9   widthCm         128 non-null    float64\n",
      "dtypes: float64(7), int64(2), object(1)\n",
      "memory usage: 10.8+ KB\n"
     ]
    }
   ],
   "source": [
    "ships.info()"
   ]
  },
  {
   "cell_type": "markdown",
   "metadata": {},
   "source": [
    "The following columns aren't tidy; don't have the corect type:\n",
    "\n",
    "* ENI should be integer\n",
    "* CapacityTon should be integer\n",
    "* lenghtCm should be integer\n",
    "* widthCm should be integer"
   ]
  },
  {
   "cell_type": "code",
   "execution_count": 20,
   "metadata": {
    "scrolled": false
   },
   "outputs": [
    {
     "data": {
      "text/plain": [
       "5.0    112\n",
       "2.0     13\n",
       "4.0      3\n",
       "1.0      1\n",
       "Name: TypeId, dtype: int64"
      ]
     },
     "execution_count": 20,
     "metadata": {},
     "output_type": "execute_result"
    }
   ],
   "source": [
    "ships['TypeId'].value_counts()"
   ]
  },
  {
   "cell_type": "code",
   "execution_count": 21,
   "metadata": {
    "scrolled": true
   },
   "outputs": [
    {
     "data": {
      "text/html": [
       "<div>\n",
       "<style scoped>\n",
       "    .dataframe tbody tr th:only-of-type {\n",
       "        vertical-align: middle;\n",
       "    }\n",
       "\n",
       "    .dataframe tbody tr th {\n",
       "        vertical-align: top;\n",
       "    }\n",
       "\n",
       "    .dataframe thead th {\n",
       "        text-align: right;\n",
       "    }\n",
       "</style>\n",
       "<table border=\"1\" class=\"dataframe\">\n",
       "  <thead>\n",
       "    <tr style=\"text-align: right;\">\n",
       "      <th></th>\n",
       "      <th>id</th>\n",
       "      <th>ENI</th>\n",
       "      <th>MMSI</th>\n",
       "      <th>TypeId</th>\n",
       "      <th>classification</th>\n",
       "      <th>capacityTon</th>\n",
       "      <th>capacityTeu</th>\n",
       "      <th>lengthCm</th>\n",
       "      <th>widthCm</th>\n",
       "    </tr>\n",
       "  </thead>\n",
       "  <tbody>\n",
       "    <tr>\n",
       "      <th>count</th>\n",
       "      <td>136.000000</td>\n",
       "      <td>1.330000e+02</td>\n",
       "      <td>1.360000e+02</td>\n",
       "      <td>129.000000</td>\n",
       "      <td>128.000000</td>\n",
       "      <td>109.000000</td>\n",
       "      <td>0.0</td>\n",
       "      <td>128.000000</td>\n",
       "      <td>128.000000</td>\n",
       "    </tr>\n",
       "    <tr>\n",
       "      <th>mean</th>\n",
       "      <td>933.941176</td>\n",
       "      <td>3.379475e+06</td>\n",
       "      <td>2.372050e+08</td>\n",
       "      <td>4.643411</td>\n",
       "      <td>4.570312</td>\n",
       "      <td>4025.715596</td>\n",
       "      <td>NaN</td>\n",
       "      <td>10818.507812</td>\n",
       "      <td>1171.164062</td>\n",
       "    </tr>\n",
       "    <tr>\n",
       "      <th>std</th>\n",
       "      <td>159.509887</td>\n",
       "      <td>3.271141e+06</td>\n",
       "      <td>3.740956e+07</td>\n",
       "      <td>0.966618</td>\n",
       "      <td>1.277816</td>\n",
       "      <td>4922.939426</td>\n",
       "      <td>NaN</td>\n",
       "      <td>2361.876266</td>\n",
       "      <td>235.633533</td>\n",
       "    </tr>\n",
       "    <tr>\n",
       "      <th>min</th>\n",
       "      <td>117.000000</td>\n",
       "      <td>1.000000e+00</td>\n",
       "      <td>9.328261e+06</td>\n",
       "      <td>1.000000</td>\n",
       "      <td>1.000000</td>\n",
       "      <td>98.000000</td>\n",
       "      <td>NaN</td>\n",
       "      <td>5500.000000</td>\n",
       "      <td>660.000000</td>\n",
       "    </tr>\n",
       "    <tr>\n",
       "      <th>25%</th>\n",
       "      <td>897.750000</td>\n",
       "      <td>2.326510e+06</td>\n",
       "      <td>2.446205e+08</td>\n",
       "      <td>5.000000</td>\n",
       "      <td>5.000000</td>\n",
       "      <td>1807.000000</td>\n",
       "      <td>NaN</td>\n",
       "      <td>8600.000000</td>\n",
       "      <td>1100.000000</td>\n",
       "    </tr>\n",
       "    <tr>\n",
       "      <th>50%</th>\n",
       "      <td>960.500000</td>\n",
       "      <td>2.333061e+06</td>\n",
       "      <td>2.446604e+08</td>\n",
       "      <td>5.000000</td>\n",
       "      <td>5.000000</td>\n",
       "      <td>3335.000000</td>\n",
       "      <td>NaN</td>\n",
       "      <td>11000.000000</td>\n",
       "      <td>1140.000000</td>\n",
       "    </tr>\n",
       "    <tr>\n",
       "      <th>75%</th>\n",
       "      <td>994.250000</td>\n",
       "      <td>2.335431e+06</td>\n",
       "      <td>2.447001e+08</td>\n",
       "      <td>5.000000</td>\n",
       "      <td>5.000000</td>\n",
       "      <td>4423.000000</td>\n",
       "      <td>NaN</td>\n",
       "      <td>12500.000000</td>\n",
       "      <td>1237.500000</td>\n",
       "    </tr>\n",
       "    <tr>\n",
       "      <th>max</th>\n",
       "      <td>1212.000000</td>\n",
       "      <td>2.734896e+07</td>\n",
       "      <td>4.777919e+08</td>\n",
       "      <td>5.000000</td>\n",
       "      <td>6.000000</td>\n",
       "      <td>50000.000000</td>\n",
       "      <td>NaN</td>\n",
       "      <td>18500.000000</td>\n",
       "      <td>1755.000000</td>\n",
       "    </tr>\n",
       "  </tbody>\n",
       "</table>\n",
       "</div>"
      ],
      "text/plain": [
       "                id           ENI          MMSI      TypeId  classification  \\\n",
       "count   136.000000  1.330000e+02  1.360000e+02  129.000000      128.000000   \n",
       "mean    933.941176  3.379475e+06  2.372050e+08    4.643411        4.570312   \n",
       "std     159.509887  3.271141e+06  3.740956e+07    0.966618        1.277816   \n",
       "min     117.000000  1.000000e+00  9.328261e+06    1.000000        1.000000   \n",
       "25%     897.750000  2.326510e+06  2.446205e+08    5.000000        5.000000   \n",
       "50%     960.500000  2.333061e+06  2.446604e+08    5.000000        5.000000   \n",
       "75%     994.250000  2.335431e+06  2.447001e+08    5.000000        5.000000   \n",
       "max    1212.000000  2.734896e+07  4.777919e+08    5.000000        6.000000   \n",
       "\n",
       "        capacityTon  capacityTeu      lengthCm      widthCm  \n",
       "count    109.000000          0.0    128.000000   128.000000  \n",
       "mean    4025.715596          NaN  10818.507812  1171.164062  \n",
       "std     4922.939426          NaN   2361.876266   235.633533  \n",
       "min       98.000000          NaN   5500.000000   660.000000  \n",
       "25%     1807.000000          NaN   8600.000000  1100.000000  \n",
       "50%     3335.000000          NaN  11000.000000  1140.000000  \n",
       "75%     4423.000000          NaN  12500.000000  1237.500000  \n",
       "max    50000.000000          NaN  18500.000000  1755.000000  "
      ]
     },
     "execution_count": 21,
     "metadata": {},
     "output_type": "execute_result"
    }
   ],
   "source": [
    "ships.describe()"
   ]
  },
  {
   "cell_type": "markdown",
   "metadata": {},
   "source": [
    "Biggest inland tanker is 14700 cm in lenght and 2300 in width with a ton capacity of 12.000 ton <a href=\"https://nos.nl/artikel/241197-grootste-binnenschip-in-rotterdam-gedoopt.html#:~:text=2011%2C%2019%3A31-,Grootste%20binnenschip%20in%20Rotterdam%20gedoopt,was%20135%20meter%20het%20record\">(Source)</a>. Seems like there is a larger barge in the database."
   ]
  },
  {
   "cell_type": "code",
   "execution_count": 22,
   "metadata": {
    "scrolled": true
   },
   "outputs": [
    {
     "data": {
      "text/html": [
       "<div>\n",
       "<style scoped>\n",
       "    .dataframe tbody tr th:only-of-type {\n",
       "        vertical-align: middle;\n",
       "    }\n",
       "\n",
       "    .dataframe tbody tr th {\n",
       "        vertical-align: top;\n",
       "    }\n",
       "\n",
       "    .dataframe thead th {\n",
       "        text-align: right;\n",
       "    }\n",
       "</style>\n",
       "<table border=\"1\" class=\"dataframe\">\n",
       "  <thead>\n",
       "    <tr style=\"text-align: right;\">\n",
       "      <th></th>\n",
       "      <th>id</th>\n",
       "      <th>name</th>\n",
       "      <th>ENI</th>\n",
       "      <th>MMSI</th>\n",
       "      <th>TypeId</th>\n",
       "      <th>classification</th>\n",
       "      <th>capacityTon</th>\n",
       "      <th>capacityTeu</th>\n",
       "      <th>lengthCm</th>\n",
       "      <th>widthCm</th>\n",
       "    </tr>\n",
       "  </thead>\n",
       "  <tbody>\n",
       "    <tr>\n",
       "      <th>133</th>\n",
       "      <td>1210</td>\n",
       "      <td>Dolce Mare</td>\n",
       "      <td>2323957.0</td>\n",
       "      <td>244790251</td>\n",
       "      <td>4.0</td>\n",
       "      <td>6.0</td>\n",
       "      <td>50000.0</td>\n",
       "      <td>NaN</td>\n",
       "      <td>17200.0</td>\n",
       "      <td>1145.0</td>\n",
       "    </tr>\n",
       "    <tr>\n",
       "      <th>134</th>\n",
       "      <td>1211</td>\n",
       "      <td>Kruier</td>\n",
       "      <td>2327353.0</td>\n",
       "      <td>244650953</td>\n",
       "      <td>2.0</td>\n",
       "      <td>6.0</td>\n",
       "      <td>500.0</td>\n",
       "      <td>NaN</td>\n",
       "      <td>17200.0</td>\n",
       "      <td>1200.0</td>\n",
       "    </tr>\n",
       "    <tr>\n",
       "      <th>135</th>\n",
       "      <td>1212</td>\n",
       "      <td>Vrido I</td>\n",
       "      <td>2328232.0</td>\n",
       "      <td>244700661</td>\n",
       "      <td>5.0</td>\n",
       "      <td>6.0</td>\n",
       "      <td>5500.0</td>\n",
       "      <td>NaN</td>\n",
       "      <td>18500.0</td>\n",
       "      <td>1145.0</td>\n",
       "    </tr>\n",
       "  </tbody>\n",
       "</table>\n",
       "</div>"
      ],
      "text/plain": [
       "       id        name        ENI       MMSI  TypeId  classification  \\\n",
       "133  1210  Dolce Mare  2323957.0  244790251     4.0             6.0   \n",
       "134  1211      Kruier  2327353.0  244650953     2.0             6.0   \n",
       "135  1212     Vrido I  2328232.0  244700661     5.0             6.0   \n",
       "\n",
       "     capacityTon  capacityTeu  lengthCm  widthCm  \n",
       "133      50000.0          NaN   17200.0   1145.0  \n",
       "134        500.0          NaN   17200.0   1200.0  \n",
       "135       5500.0          NaN   18500.0   1145.0  "
      ]
     },
     "execution_count": 22,
     "metadata": {},
     "output_type": "execute_result"
    }
   ],
   "source": [
    "ships[ships['lengthCm'] >= 14700]"
   ]
  },
  {
   "cell_type": "markdown",
   "metadata": {},
   "source": [
    "Vrido I only tanker larger than 14700 cm. Quick search shows that Vrido I is a container barge.\n",
    "\n",
    "The Dolce Mare seems to have a ton capacity larger than the largest tanker barge, but is a container barge. Let's see if there are others."
   ]
  },
  {
   "cell_type": "code",
   "execution_count": 23,
   "metadata": {},
   "outputs": [
    {
     "data": {
      "text/html": [
       "<div>\n",
       "<style scoped>\n",
       "    .dataframe tbody tr th:only-of-type {\n",
       "        vertical-align: middle;\n",
       "    }\n",
       "\n",
       "    .dataframe tbody tr th {\n",
       "        vertical-align: top;\n",
       "    }\n",
       "\n",
       "    .dataframe thead th {\n",
       "        text-align: right;\n",
       "    }\n",
       "</style>\n",
       "<table border=\"1\" class=\"dataframe\">\n",
       "  <thead>\n",
       "    <tr style=\"text-align: right;\">\n",
       "      <th></th>\n",
       "      <th>id</th>\n",
       "      <th>name</th>\n",
       "      <th>ENI</th>\n",
       "      <th>MMSI</th>\n",
       "      <th>TypeId</th>\n",
       "      <th>classification</th>\n",
       "      <th>capacityTon</th>\n",
       "      <th>capacityTeu</th>\n",
       "      <th>lengthCm</th>\n",
       "      <th>widthCm</th>\n",
       "    </tr>\n",
       "  </thead>\n",
       "  <tbody>\n",
       "    <tr>\n",
       "      <th>133</th>\n",
       "      <td>1210</td>\n",
       "      <td>Dolce Mare</td>\n",
       "      <td>2323957.0</td>\n",
       "      <td>244790251</td>\n",
       "      <td>4.0</td>\n",
       "      <td>6.0</td>\n",
       "      <td>50000.0</td>\n",
       "      <td>NaN</td>\n",
       "      <td>17200.0</td>\n",
       "      <td>1145.0</td>\n",
       "    </tr>\n",
       "  </tbody>\n",
       "</table>\n",
       "</div>"
      ],
      "text/plain": [
       "       id        name        ENI       MMSI  TypeId  classification  \\\n",
       "133  1210  Dolce Mare  2323957.0  244790251     4.0             6.0   \n",
       "\n",
       "     capacityTon  capacityTeu  lengthCm  widthCm  \n",
       "133      50000.0          NaN   17200.0   1145.0  "
      ]
     },
     "execution_count": 23,
     "metadata": {},
     "output_type": "execute_result"
    }
   ],
   "source": [
    "ships[ships['capacityTon'] >= 12000]"
   ]
  },
  {
   "cell_type": "code",
   "execution_count": 24,
   "metadata": {
    "scrolled": true
   },
   "outputs": [
    {
     "data": {
      "text/plain": [
       "17"
      ]
     },
     "execution_count": 24,
     "metadata": {},
     "output_type": "execute_result"
    }
   ],
   "source": [
    "ships[ships['TypeId'] != 5].count()[4]"
   ]
  },
  {
   "cell_type": "markdown",
   "metadata": {},
   "source": [
    "17 bargers are not tankers"
   ]
  },
  {
   "cell_type": "code",
   "execution_count": 25,
   "metadata": {
    "scrolled": true
   },
   "outputs": [
    {
     "data": {
      "text/plain": [
       "0"
      ]
     },
     "execution_count": 25,
     "metadata": {},
     "output_type": "execute_result"
    }
   ],
   "source": [
    "ships.duplicated().sum()"
   ]
  },
  {
   "cell_type": "code",
   "execution_count": 26,
   "metadata": {
    "scrolled": true
   },
   "outputs": [
    {
     "data": {
      "text/plain": [
       "id                  0\n",
       "name                0\n",
       "ENI                 3\n",
       "MMSI                0\n",
       "TypeId              7\n",
       "classification      8\n",
       "capacityTon        27\n",
       "capacityTeu       136\n",
       "lengthCm            8\n",
       "widthCm             8\n",
       "dtype: int64"
      ]
     },
     "execution_count": 26,
     "metadata": {},
     "output_type": "execute_result"
    }
   ],
   "source": [
    "ships.isnull().sum()"
   ]
  },
  {
   "cell_type": "markdown",
   "metadata": {},
   "source": [
    "TypeId,lengthCm,widthCm with null values aren't valuable."
   ]
  },
  {
   "cell_type": "markdown",
   "metadata": {},
   "source": [
    "### Conclusion\n",
    "\n",
    "* Invalid data : Drop \"ship 1\"\n",
    "* Inconsistent data : container or dry bulk barges aren't relevant for analysis\n",
    "* Non valuable data : CapacityTEU and classification aren't valuable for analysis\n",
    "* Accurate data : barges dimensions in meters\n",
    "* Inaccurate data : ENI, CapacityTon, lenghtCm, widthCm should be integer\n",
    "* Invalid data : Barges larger than 14700 cm aren't tankers\n",
    "* inconsistent data : TypeId,lengthCm,widthCm with null values aren't valuable\n"
   ]
  },
  {
   "cell_type": "markdown",
   "metadata": {},
   "source": [
    "## Cleaning"
   ]
  },
  {
   "cell_type": "code",
   "execution_count": 27,
   "metadata": {},
   "outputs": [],
   "source": [
    "clog_copy = clog.copy()\n",
    "location_copy = location.copy()"
   ]
  },
  {
   "cell_type": "code",
   "execution_count": 28,
   "metadata": {},
   "outputs": [],
   "source": [
    "ships_copy = ships.copy()"
   ]
  },
  {
   "cell_type": "markdown",
   "metadata": {},
   "source": [
    "### Define\n",
    "Inaccurate data: 18.8% of the course information is inaccurate\n",
    "\n",
    "> Drop all rows with course larger than 360"
   ]
  },
  {
   "cell_type": "code",
   "execution_count": 29,
   "metadata": {},
   "outputs": [],
   "source": [
    "# Skim dataset to have only rows with course information less or equal to 360 degrees\n",
    "clog_copy = clog_copy[clog_copy['Course'] <= 360]"
   ]
  },
  {
   "cell_type": "code",
   "execution_count": 30,
   "metadata": {
    "scrolled": true
   },
   "outputs": [
    {
     "data": {
      "text/plain": [
       "0"
      ]
     },
     "execution_count": 30,
     "metadata": {},
     "output_type": "execute_result"
    }
   ],
   "source": [
    "# Count amount of rows with course higher than 360 degrees. Should be zero\n",
    "clog_copy[clog_copy['Course'] > 360]['Course'].count()"
   ]
  },
  {
   "cell_type": "markdown",
   "metadata": {},
   "source": [
    "### Define\n",
    "Inaccurate data: It appears that the maximum speed of barge is under the 30 km/ph, but there are some outliers.\n",
    "\n",
    "> Drop all rows with speeds above 30 km/ph"
   ]
  },
  {
   "cell_type": "code",
   "execution_count": 31,
   "metadata": {},
   "outputs": [],
   "source": [
    "# Skim dataset to have only rows with speed information less or equal to 30 km/ph\n",
    "clog_copy = clog_copy[clog_copy['Speed'] <= 30]"
   ]
  },
  {
   "cell_type": "code",
   "execution_count": 32,
   "metadata": {},
   "outputs": [
    {
     "data": {
      "text/plain": [
       "0"
      ]
     },
     "execution_count": 32,
     "metadata": {},
     "output_type": "execute_result"
    }
   ],
   "source": [
    "# Count amount of rows with speed higher than 30 km/ph. Should be zero\n",
    "clog_copy[clog_copy['Speed'] >= 30]['Speed'].count()"
   ]
  },
  {
   "cell_type": "markdown",
   "metadata": {},
   "source": [
    "### Define\n",
    "ShipId could be a string, but should be an integer for space saving and performance reasons (source), but can't be a float.\n",
    "\n",
    "> Give shipId type integer"
   ]
  },
  {
   "cell_type": "code",
   "execution_count": 33,
   "metadata": {},
   "outputs": [],
   "source": [
    "clog_copy['ShipId'] = clog_copy['ShipId'].astype('int')"
   ]
  },
  {
   "cell_type": "code",
   "execution_count": 34,
   "metadata": {
    "scrolled": false
   },
   "outputs": [
    {
     "name": "stdout",
     "output_type": "stream",
     "text": [
      "<class 'pandas.core.frame.DataFrame'>\n",
      "Int64Index: 717070 entries, 0 to 884170\n",
      "Data columns (total 4 columns):\n",
      " #   Column    Non-Null Count   Dtype  \n",
      "---  ------    --------------   -----  \n",
      " 0   ShipId    717070 non-null  int32  \n",
      " 1   Speed     717070 non-null  float64\n",
      " 2   Course    717070 non-null  float64\n",
      " 3   Location  717070 non-null  object \n",
      "dtypes: float64(2), int32(1), object(1)\n",
      "memory usage: 24.6+ MB\n"
     ]
    }
   ],
   "source": [
    "clog_copy.info()"
   ]
  },
  {
   "cell_type": "markdown",
   "metadata": {},
   "source": [
    "### Define\n",
    "There're a lot of locations without encoded polylines\n",
    "\n",
    "> Will be dropped during merge"
   ]
  },
  {
   "cell_type": "code",
   "execution_count": 35,
   "metadata": {},
   "outputs": [
    {
     "name": "stdout",
     "output_type": "stream",
     "text": [
      "<class 'pandas.core.frame.DataFrame'>\n",
      "RangeIndex: 3021 entries, 0 to 3020\n",
      "Data columns (total 7 columns):\n",
      " #   Column           Non-Null Count  Dtype  \n",
      "---  ------           --------------  -----  \n",
      " 0   id               3021 non-null   int64  \n",
      " 1   code             2402 non-null   object \n",
      " 2   description      3021 non-null   object \n",
      " 3   type             3021 non-null   int64  \n",
      " 4   latitude         2883 non-null   float64\n",
      " 5   longitude        2883 non-null   float64\n",
      " 6   encodedPolyline  1424 non-null   object \n",
      "dtypes: float64(2), int64(2), object(3)\n",
      "memory usage: 165.3+ KB\n"
     ]
    }
   ],
   "source": [
    "location_copy.info()"
   ]
  },
  {
   "cell_type": "markdown",
   "metadata": {},
   "source": [
    "### Define\n",
    "Not every column is a variable: ID is a primary key which isn't relevant for this research and can be removed."
   ]
  },
  {
   "cell_type": "code",
   "execution_count": 36,
   "metadata": {},
   "outputs": [],
   "source": [
    "# Drop id column\n",
    "location_copy = location_copy.drop(columns = ['id'])"
   ]
  },
  {
   "cell_type": "code",
   "execution_count": 37,
   "metadata": {
    "scrolled": true
   },
   "outputs": [
    {
     "name": "stdout",
     "output_type": "stream",
     "text": [
      "<class 'pandas.core.frame.DataFrame'>\n",
      "RangeIndex: 3021 entries, 0 to 3020\n",
      "Data columns (total 6 columns):\n",
      " #   Column           Non-Null Count  Dtype  \n",
      "---  ------           --------------  -----  \n",
      " 0   code             2402 non-null   object \n",
      " 1   description      3021 non-null   object \n",
      " 2   type             3021 non-null   int64  \n",
      " 3   latitude         2883 non-null   float64\n",
      " 4   longitude        2883 non-null   float64\n",
      " 5   encodedPolyline  1424 non-null   object \n",
      "dtypes: float64(2), int64(1), object(3)\n",
      "memory usage: 141.7+ KB\n"
     ]
    }
   ],
   "source": [
    "# Test columns\n",
    "location_copy.info()"
   ]
  },
  {
   "cell_type": "markdown",
   "metadata": {},
   "source": [
    "### Define\n",
    "Ever row is an observation: Change location type from numerical indication to catagorical indication and by doing so improve the observation"
   ]
  },
  {
   "cell_type": "code",
   "execution_count": 38,
   "metadata": {},
   "outputs": [],
   "source": [
    "location_copy['type'] = location_copy['type'].replace({1:'Terminal',2:'Address',3:'Lock',4:'Port',5:'Waiting location',12: 'Area',13: 'Bunker station', 14: 'Water way'})"
   ]
  },
  {
   "cell_type": "code",
   "execution_count": 39,
   "metadata": {},
   "outputs": [],
   "source": [
    "location_copy['type'] = location_copy['type'].astype('category')"
   ]
  },
  {
   "cell_type": "code",
   "execution_count": 40,
   "metadata": {
    "scrolled": true
   },
   "outputs": [
    {
     "name": "stdout",
     "output_type": "stream",
     "text": [
      "<class 'pandas.core.frame.DataFrame'>\n",
      "RangeIndex: 3021 entries, 0 to 3020\n",
      "Data columns (total 6 columns):\n",
      " #   Column           Non-Null Count  Dtype   \n",
      "---  ------           --------------  -----   \n",
      " 0   code             2402 non-null   object  \n",
      " 1   description      3021 non-null   object  \n",
      " 2   type             3021 non-null   category\n",
      " 3   latitude         2883 non-null   float64 \n",
      " 4   longitude        2883 non-null   float64 \n",
      " 5   encodedPolyline  1424 non-null   object  \n",
      "dtypes: category(1), float64(2), object(3)\n",
      "memory usage: 121.5+ KB\n"
     ]
    }
   ],
   "source": [
    "location_copy.info()"
   ]
  },
  {
   "cell_type": "code",
   "execution_count": 41,
   "metadata": {},
   "outputs": [
    {
     "data": {
      "text/plain": [
       "Lock                1488\n",
       "Terminal             613\n",
       "Address              317\n",
       "Port                 216\n",
       "Water way            193\n",
       "Waiting location     176\n",
       "Bunker station        17\n",
       "Area                   1\n",
       "Name: type, dtype: int64"
      ]
     },
     "execution_count": 41,
     "metadata": {},
     "output_type": "execute_result"
    }
   ],
   "source": [
    "location_copy['type'].value_counts()"
   ]
  },
  {
   "cell_type": "markdown",
   "metadata": {},
   "source": [
    "### Define\n",
    "\"ship 1\" seems to be an invalid barge\n",
    "\n",
    "> Drop \"schip1\""
   ]
  },
  {
   "cell_type": "code",
   "execution_count": 42,
   "metadata": {},
   "outputs": [
    {
     "name": "stdout",
     "output_type": "stream",
     "text": [
      "<class 'pandas.core.frame.DataFrame'>\n",
      "RangeIndex: 136 entries, 0 to 135\n",
      "Data columns (total 10 columns):\n",
      " #   Column          Non-Null Count  Dtype  \n",
      "---  ------          --------------  -----  \n",
      " 0   id              136 non-null    int64  \n",
      " 1   name            136 non-null    object \n",
      " 2   ENI             133 non-null    float64\n",
      " 3   MMSI            136 non-null    int64  \n",
      " 4   TypeId          129 non-null    float64\n",
      " 5   classification  128 non-null    float64\n",
      " 6   capacityTon     109 non-null    float64\n",
      " 7   capacityTeu     0 non-null      float64\n",
      " 8   lengthCm        128 non-null    float64\n",
      " 9   widthCm         128 non-null    float64\n",
      "dtypes: float64(7), int64(2), object(1)\n",
      "memory usage: 10.8+ KB\n"
     ]
    }
   ],
   "source": [
    "ships_copy.info()"
   ]
  },
  {
   "cell_type": "code",
   "execution_count": 43,
   "metadata": {},
   "outputs": [],
   "source": [
    "# drop schip1 from database\n",
    "ships_copy = ships_copy[ships_copy['name'] != 'Schip1']"
   ]
  },
  {
   "cell_type": "code",
   "execution_count": 44,
   "metadata": {
    "scrolled": true
   },
   "outputs": [
    {
     "data": {
      "text/plain": [
       "(135, 10)"
      ]
     },
     "execution_count": 44,
     "metadata": {},
     "output_type": "execute_result"
    }
   ],
   "source": [
    "# shape should amount to 135 rows\n",
    "ships_copy.shape"
   ]
  },
  {
   "cell_type": "markdown",
   "metadata": {},
   "source": [
    "### Define\n",
    "container or dry bulk barges aren't relevant for analysis\n",
    "\n",
    "> Keep only barges with TypeId 5"
   ]
  },
  {
   "cell_type": "code",
   "execution_count": 45,
   "metadata": {},
   "outputs": [],
   "source": [
    "# Keep barges with TypeId 5\n",
    "ships_copy = ships_copy[ships_copy['TypeId'] == 5]"
   ]
  },
  {
   "cell_type": "code",
   "execution_count": 46,
   "metadata": {
    "scrolled": false
   },
   "outputs": [
    {
     "data": {
      "text/plain": [
       "id                0\n",
       "name              0\n",
       "ENI               0\n",
       "MMSI              0\n",
       "TypeId            0\n",
       "classification    0\n",
       "capacityTon       0\n",
       "capacityTeu       0\n",
       "lengthCm          0\n",
       "widthCm           0\n",
       "dtype: int64"
      ]
     },
     "execution_count": 46,
     "metadata": {},
     "output_type": "execute_result"
    }
   ],
   "source": [
    "# Amount of ships with TypeId different than 5 should zero\n",
    "ships_copy[ships_copy['TypeId'] != 5].count()"
   ]
  },
  {
   "cell_type": "markdown",
   "metadata": {},
   "source": [
    "### Define\n",
    "CapacityTEU and classification aren't valuable for analysis\n",
    "\n",
    "> Drop colums CapacityTEU and classification "
   ]
  },
  {
   "cell_type": "code",
   "execution_count": 47,
   "metadata": {},
   "outputs": [],
   "source": [
    "# Drop colums CapacityTEU and classification\n",
    "ships_copy = ships_copy.drop(columns = ['capacityTeu','classification'])"
   ]
  },
  {
   "cell_type": "code",
   "execution_count": 48,
   "metadata": {
    "scrolled": true
   },
   "outputs": [
    {
     "name": "stdout",
     "output_type": "stream",
     "text": [
      "<class 'pandas.core.frame.DataFrame'>\n",
      "Int64Index: 112 entries, 6 to 135\n",
      "Data columns (total 8 columns):\n",
      " #   Column       Non-Null Count  Dtype  \n",
      "---  ------       --------------  -----  \n",
      " 0   id           112 non-null    int64  \n",
      " 1   name         112 non-null    object \n",
      " 2   ENI          112 non-null    float64\n",
      " 3   MMSI         112 non-null    int64  \n",
      " 4   TypeId       112 non-null    float64\n",
      " 5   capacityTon  90 non-null     float64\n",
      " 6   lengthCm     110 non-null    float64\n",
      " 7   widthCm      110 non-null    float64\n",
      "dtypes: float64(5), int64(2), object(1)\n",
      "memory usage: 7.9+ KB\n"
     ]
    }
   ],
   "source": [
    "# Check columns\n",
    "ships_copy.info()"
   ]
  },
  {
   "cell_type": "markdown",
   "metadata": {},
   "source": [
    "### Define¶\n",
    "inconsistent data : TypeId,lengthCm,widthCm with null values aren't valuable\n",
    "\n",
    "> Drop rows with NaN"
   ]
  },
  {
   "cell_type": "code",
   "execution_count": 49,
   "metadata": {
    "scrolled": true
   },
   "outputs": [],
   "source": [
    "ships_copy = ships_copy.dropna()"
   ]
  },
  {
   "cell_type": "code",
   "execution_count": 50,
   "metadata": {},
   "outputs": [
    {
     "name": "stdout",
     "output_type": "stream",
     "text": [
      "<class 'pandas.core.frame.DataFrame'>\n",
      "Int64Index: 90 entries, 6 to 135\n",
      "Data columns (total 8 columns):\n",
      " #   Column       Non-Null Count  Dtype  \n",
      "---  ------       --------------  -----  \n",
      " 0   id           90 non-null     int64  \n",
      " 1   name         90 non-null     object \n",
      " 2   ENI          90 non-null     float64\n",
      " 3   MMSI         90 non-null     int64  \n",
      " 4   TypeId       90 non-null     float64\n",
      " 5   capacityTon  90 non-null     float64\n",
      " 6   lengthCm     90 non-null     float64\n",
      " 7   widthCm      90 non-null     float64\n",
      "dtypes: float64(5), int64(2), object(1)\n",
      "memory usage: 6.3+ KB\n"
     ]
    }
   ],
   "source": [
    "ships_copy.info()"
   ]
  },
  {
   "cell_type": "markdown",
   "metadata": {},
   "source": [
    "### Define\n",
    "ENI, CapacityTon, lenghtCm, widthCm should be integer\n",
    "\n",
    "> Change data types"
   ]
  },
  {
   "cell_type": "code",
   "execution_count": 51,
   "metadata": {},
   "outputs": [],
   "source": [
    "ships_copy['ENI'] = ships_copy['ENI'].astype('int')\n",
    "ships_copy['capacityTon'] = ships_copy['capacityTon'].astype('int')\n",
    "ships_copy['lengthCm'] = ships_copy['lengthCm'].astype('int')\n",
    "ships_copy['widthCm'] = ships_copy['widthCm'].astype('int')"
   ]
  },
  {
   "cell_type": "markdown",
   "metadata": {},
   "source": [
    "### Define\n",
    "Invalid data : Barges larger than 14700 cm aren't tankers"
   ]
  },
  {
   "cell_type": "code",
   "execution_count": 52,
   "metadata": {},
   "outputs": [],
   "source": [
    "ships_copy = ships_copy[ships_copy['lengthCm'] < 14700]"
   ]
  },
  {
   "cell_type": "code",
   "execution_count": 53,
   "metadata": {},
   "outputs": [
    {
     "data": {
      "text/plain": [
       "0"
      ]
     },
     "execution_count": 53,
     "metadata": {},
     "output_type": "execute_result"
    }
   ],
   "source": [
    "# amount barges larger than 14700 cm should be zero\n",
    "ships_copy[ships_copy['lengthCm'] >= 14700]['id'].count()"
   ]
  },
  {
   "cell_type": "markdown",
   "metadata": {},
   "source": [
    "### Define\n",
    "incorrect data : Barges dimensions in meters"
   ]
  },
  {
   "cell_type": "code",
   "execution_count": 54,
   "metadata": {},
   "outputs": [],
   "source": [
    "ships_copy['length_m'] = ships_copy['lengthCm'] / 100"
   ]
  },
  {
   "cell_type": "code",
   "execution_count": 55,
   "metadata": {},
   "outputs": [],
   "source": [
    "ships_copy['width_m'] = ships_copy['widthCm'] / 100"
   ]
  },
  {
   "cell_type": "code",
   "execution_count": 56,
   "metadata": {},
   "outputs": [],
   "source": [
    "ships_copy = ships_copy.drop(columns=['lengthCm','widthCm'])"
   ]
  },
  {
   "cell_type": "code",
   "execution_count": 57,
   "metadata": {
    "scrolled": false
   },
   "outputs": [
    {
     "data": {
      "text/html": [
       "<div>\n",
       "<style scoped>\n",
       "    .dataframe tbody tr th:only-of-type {\n",
       "        vertical-align: middle;\n",
       "    }\n",
       "\n",
       "    .dataframe tbody tr th {\n",
       "        vertical-align: top;\n",
       "    }\n",
       "\n",
       "    .dataframe thead th {\n",
       "        text-align: right;\n",
       "    }\n",
       "</style>\n",
       "<table border=\"1\" class=\"dataframe\">\n",
       "  <thead>\n",
       "    <tr style=\"text-align: right;\">\n",
       "      <th></th>\n",
       "      <th>id</th>\n",
       "      <th>name</th>\n",
       "      <th>ENI</th>\n",
       "      <th>MMSI</th>\n",
       "      <th>TypeId</th>\n",
       "      <th>capacityTon</th>\n",
       "      <th>length_m</th>\n",
       "      <th>width_m</th>\n",
       "    </tr>\n",
       "  </thead>\n",
       "  <tbody>\n",
       "    <tr>\n",
       "      <th>6</th>\n",
       "      <td>737</td>\n",
       "      <td>Willem Antonie</td>\n",
       "      <td>2331120</td>\n",
       "      <td>244650799</td>\n",
       "      <td>5.0</td>\n",
       "      <td>2912</td>\n",
       "      <td>99.0</td>\n",
       "      <td>11.45</td>\n",
       "    </tr>\n",
       "    <tr>\n",
       "      <th>14</th>\n",
       "      <td>827</td>\n",
       "      <td>Atlantic Performer</td>\n",
       "      <td>2333816</td>\n",
       "      <td>244710207</td>\n",
       "      <td>5.0</td>\n",
       "      <td>5718</td>\n",
       "      <td>135.0</td>\n",
       "      <td>13.50</td>\n",
       "    </tr>\n",
       "    <tr>\n",
       "      <th>15</th>\n",
       "      <td>828</td>\n",
       "      <td>Jeanine</td>\n",
       "      <td>2332323</td>\n",
       "      <td>222582345</td>\n",
       "      <td>5.0</td>\n",
       "      <td>6445</td>\n",
       "      <td>135.0</td>\n",
       "      <td>15.00</td>\n",
       "    </tr>\n",
       "    <tr>\n",
       "      <th>16</th>\n",
       "      <td>829</td>\n",
       "      <td>Promotion</td>\n",
       "      <td>2332837</td>\n",
       "      <td>244660052</td>\n",
       "      <td>5.0</td>\n",
       "      <td>8730</td>\n",
       "      <td>135.0</td>\n",
       "      <td>17.50</td>\n",
       "    </tr>\n",
       "    <tr>\n",
       "      <th>17</th>\n",
       "      <td>831</td>\n",
       "      <td>Jowi</td>\n",
       "      <td>2330211</td>\n",
       "      <td>244620628</td>\n",
       "      <td>5.0</td>\n",
       "      <td>6561</td>\n",
       "      <td>135.0</td>\n",
       "      <td>15.00</td>\n",
       "    </tr>\n",
       "  </tbody>\n",
       "</table>\n",
       "</div>"
      ],
      "text/plain": [
       "     id                name      ENI       MMSI  TypeId  capacityTon  \\\n",
       "6   737      Willem Antonie  2331120  244650799     5.0         2912   \n",
       "14  827  Atlantic Performer  2333816  244710207     5.0         5718   \n",
       "15  828             Jeanine  2332323  222582345     5.0         6445   \n",
       "16  829           Promotion  2332837  244660052     5.0         8730   \n",
       "17  831                Jowi  2330211  244620628     5.0         6561   \n",
       "\n",
       "    length_m  width_m  \n",
       "6       99.0    11.45  \n",
       "14     135.0    13.50  \n",
       "15     135.0    15.00  \n",
       "16     135.0    17.50  \n",
       "17     135.0    15.00  "
      ]
     },
     "execution_count": 57,
     "metadata": {},
     "output_type": "execute_result"
    }
   ],
   "source": [
    "# Check if barge dimensions are in meters\n",
    "ships_copy.head()"
   ]
  },
  {
   "cell_type": "markdown",
   "metadata": {},
   "source": [
    "### Define\n",
    "Tidy data : Because all barges are tankers, TypeId isn't relevant or variable"
   ]
  },
  {
   "cell_type": "code",
   "execution_count": 58,
   "metadata": {},
   "outputs": [],
   "source": [
    "ships_copy = ships_copy.drop(columns=['TypeId'])"
   ]
  },
  {
   "cell_type": "code",
   "execution_count": 59,
   "metadata": {
    "scrolled": true
   },
   "outputs": [
    {
     "data": {
      "text/html": [
       "<div>\n",
       "<style scoped>\n",
       "    .dataframe tbody tr th:only-of-type {\n",
       "        vertical-align: middle;\n",
       "    }\n",
       "\n",
       "    .dataframe tbody tr th {\n",
       "        vertical-align: top;\n",
       "    }\n",
       "\n",
       "    .dataframe thead th {\n",
       "        text-align: right;\n",
       "    }\n",
       "</style>\n",
       "<table border=\"1\" class=\"dataframe\">\n",
       "  <thead>\n",
       "    <tr style=\"text-align: right;\">\n",
       "      <th></th>\n",
       "      <th>id</th>\n",
       "      <th>name</th>\n",
       "      <th>ENI</th>\n",
       "      <th>MMSI</th>\n",
       "      <th>capacityTon</th>\n",
       "      <th>length_m</th>\n",
       "      <th>width_m</th>\n",
       "    </tr>\n",
       "  </thead>\n",
       "  <tbody>\n",
       "    <tr>\n",
       "      <th>6</th>\n",
       "      <td>737</td>\n",
       "      <td>Willem Antonie</td>\n",
       "      <td>2331120</td>\n",
       "      <td>244650799</td>\n",
       "      <td>2912</td>\n",
       "      <td>99.0</td>\n",
       "      <td>11.45</td>\n",
       "    </tr>\n",
       "    <tr>\n",
       "      <th>14</th>\n",
       "      <td>827</td>\n",
       "      <td>Atlantic Performer</td>\n",
       "      <td>2333816</td>\n",
       "      <td>244710207</td>\n",
       "      <td>5718</td>\n",
       "      <td>135.0</td>\n",
       "      <td>13.50</td>\n",
       "    </tr>\n",
       "    <tr>\n",
       "      <th>15</th>\n",
       "      <td>828</td>\n",
       "      <td>Jeanine</td>\n",
       "      <td>2332323</td>\n",
       "      <td>222582345</td>\n",
       "      <td>6445</td>\n",
       "      <td>135.0</td>\n",
       "      <td>15.00</td>\n",
       "    </tr>\n",
       "    <tr>\n",
       "      <th>16</th>\n",
       "      <td>829</td>\n",
       "      <td>Promotion</td>\n",
       "      <td>2332837</td>\n",
       "      <td>244660052</td>\n",
       "      <td>8730</td>\n",
       "      <td>135.0</td>\n",
       "      <td>17.50</td>\n",
       "    </tr>\n",
       "    <tr>\n",
       "      <th>17</th>\n",
       "      <td>831</td>\n",
       "      <td>Jowi</td>\n",
       "      <td>2330211</td>\n",
       "      <td>244620628</td>\n",
       "      <td>6561</td>\n",
       "      <td>135.0</td>\n",
       "      <td>15.00</td>\n",
       "    </tr>\n",
       "  </tbody>\n",
       "</table>\n",
       "</div>"
      ],
      "text/plain": [
       "     id                name      ENI       MMSI  capacityTon  length_m  \\\n",
       "6   737      Willem Antonie  2331120  244650799         2912      99.0   \n",
       "14  827  Atlantic Performer  2333816  244710207         5718     135.0   \n",
       "15  828             Jeanine  2332323  222582345         6445     135.0   \n",
       "16  829           Promotion  2332837  244660052         8730     135.0   \n",
       "17  831                Jowi  2330211  244620628         6561     135.0   \n",
       "\n",
       "    width_m  \n",
       "6     11.45  \n",
       "14    13.50  \n",
       "15    15.00  \n",
       "16    17.50  \n",
       "17    15.00  "
      ]
     },
     "execution_count": 59,
     "metadata": {},
     "output_type": "execute_result"
    }
   ],
   "source": [
    "# Check if barge TypeId is dropped\n",
    "ships_copy.head()"
   ]
  },
  {
   "cell_type": "markdown",
   "metadata": {},
   "source": [
    "## Merge datasets"
   ]
  },
  {
   "cell_type": "code",
   "execution_count": 60,
   "metadata": {},
   "outputs": [],
   "source": [
    "barges_joinstep = clog_copy.merge(location_copy, left_on=['Location'], right_on=['description'], how='inner')"
   ]
  },
  {
   "cell_type": "code",
   "execution_count": 61,
   "metadata": {},
   "outputs": [
    {
     "name": "stdout",
     "output_type": "stream",
     "text": [
      "<class 'pandas.core.frame.DataFrame'>\n",
      "Int64Index: 855610 entries, 0 to 855609\n",
      "Data columns (total 10 columns):\n",
      " #   Column           Non-Null Count   Dtype   \n",
      "---  ------           --------------   -----   \n",
      " 0   ShipId           855610 non-null  int32   \n",
      " 1   Speed            855610 non-null  float64 \n",
      " 2   Course           855610 non-null  float64 \n",
      " 3   Location         855610 non-null  object  \n",
      " 4   code             247018 non-null  object  \n",
      " 5   description      855610 non-null  object  \n",
      " 6   type             855610 non-null  category\n",
      " 7   latitude         621994 non-null  float64 \n",
      " 8   longitude        621994 non-null  float64 \n",
      " 9   encodedPolyline  780397 non-null  object  \n",
      "dtypes: category(1), float64(4), int32(1), object(4)\n",
      "memory usage: 62.8+ MB\n"
     ]
    }
   ],
   "source": [
    "barges_joinstep.info()"
   ]
  },
  {
   "cell_type": "code",
   "execution_count": 62,
   "metadata": {},
   "outputs": [
    {
     "data": {
      "text/plain": [
       "(855610, 10)"
      ]
     },
     "execution_count": 62,
     "metadata": {},
     "output_type": "execute_result"
    }
   ],
   "source": [
    "barges_joinstep.shape"
   ]
  },
  {
   "cell_type": "code",
   "execution_count": 63,
   "metadata": {},
   "outputs": [],
   "source": [
    "barges_join = barges_joinstep.merge(ships_copy,left_on=['ShipId'], right_on=['id'], how='inner')"
   ]
  },
  {
   "cell_type": "code",
   "execution_count": 64,
   "metadata": {
    "scrolled": true
   },
   "outputs": [
    {
     "data": {
      "text/plain": [
       "(420796, 17)"
      ]
     },
     "execution_count": 64,
     "metadata": {},
     "output_type": "execute_result"
    }
   ],
   "source": [
    "barges_join.shape"
   ]
  },
  {
   "cell_type": "markdown",
   "metadata": {},
   "source": [
    "### Visual analysis"
   ]
  },
  {
   "cell_type": "code",
   "execution_count": 65,
   "metadata": {
    "scrolled": true
   },
   "outputs": [
    {
     "name": "stdout",
     "output_type": "stream",
     "text": [
      "<class 'pandas.core.frame.DataFrame'>\n",
      "Int64Index: 420796 entries, 0 to 420795\n",
      "Data columns (total 17 columns):\n",
      " #   Column           Non-Null Count   Dtype   \n",
      "---  ------           --------------   -----   \n",
      " 0   ShipId           420796 non-null  int32   \n",
      " 1   Speed            420796 non-null  float64 \n",
      " 2   Course           420796 non-null  float64 \n",
      " 3   Location         420796 non-null  object  \n",
      " 4   code             181408 non-null  object  \n",
      " 5   description      420796 non-null  object  \n",
      " 6   type             420796 non-null  category\n",
      " 7   latitude         260324 non-null  float64 \n",
      " 8   longitude        260324 non-null  float64 \n",
      " 9   encodedPolyline  361753 non-null  object  \n",
      " 10  id               420796 non-null  int64   \n",
      " 11  name             420796 non-null  object  \n",
      " 12  ENI              420796 non-null  int32   \n",
      " 13  MMSI             420796 non-null  int64   \n",
      " 14  capacityTon      420796 non-null  int32   \n",
      " 15  length_m         420796 non-null  float64 \n",
      " 16  width_m          420796 non-null  float64 \n",
      "dtypes: category(1), float64(6), int32(3), int64(2), object(5)\n",
      "memory usage: 50.2+ MB\n"
     ]
    }
   ],
   "source": [
    "barges_join.info()"
   ]
  },
  {
   "cell_type": "markdown",
   "metadata": {},
   "source": [
    "Name, ENI and MMSI are identifications of vessels which aren't necessary for this analysis and therefore can be dropped.\n",
    "</br>Id can be dropped because it's duplicate of shipId.</br>description can be dropped because it's a duplicate of Location"
   ]
  },
  {
   "cell_type": "code",
   "execution_count": 66,
   "metadata": {},
   "outputs": [],
   "source": [
    "barges_join = barges_join.drop(columns=['name','ENI','MMSI','id', 'description'])"
   ]
  },
  {
   "cell_type": "code",
   "execution_count": 67,
   "metadata": {},
   "outputs": [
    {
     "name": "stdout",
     "output_type": "stream",
     "text": [
      "<class 'pandas.core.frame.DataFrame'>\n",
      "Int64Index: 420796 entries, 0 to 420795\n",
      "Data columns (total 12 columns):\n",
      " #   Column           Non-Null Count   Dtype   \n",
      "---  ------           --------------   -----   \n",
      " 0   ShipId           420796 non-null  int32   \n",
      " 1   Speed            420796 non-null  float64 \n",
      " 2   Course           420796 non-null  float64 \n",
      " 3   Location         420796 non-null  object  \n",
      " 4   code             181408 non-null  object  \n",
      " 5   type             420796 non-null  category\n",
      " 6   latitude         260324 non-null  float64 \n",
      " 7   longitude        260324 non-null  float64 \n",
      " 8   encodedPolyline  361753 non-null  object  \n",
      " 9   capacityTon      420796 non-null  int32   \n",
      " 10  length_m         420796 non-null  float64 \n",
      " 11  width_m          420796 non-null  float64 \n",
      "dtypes: category(1), float64(6), int32(2), object(3)\n",
      "memory usage: 35.7+ MB\n"
     ]
    }
   ],
   "source": [
    "barges_join.info()"
   ]
  },
  {
   "cell_type": "markdown",
   "metadata": {},
   "source": [
    "Columns aren't consistent. All name's should or shouldn't start with uppercase"
   ]
  },
  {
   "cell_type": "code",
   "execution_count": 68,
   "metadata": {},
   "outputs": [],
   "source": [
    "barges_join.columns = map(str.lower, barges_join.columns)"
   ]
  },
  {
   "cell_type": "code",
   "execution_count": 69,
   "metadata": {
    "scrolled": true
   },
   "outputs": [
    {
     "name": "stdout",
     "output_type": "stream",
     "text": [
      "<class 'pandas.core.frame.DataFrame'>\n",
      "Int64Index: 420796 entries, 0 to 420795\n",
      "Data columns (total 12 columns):\n",
      " #   Column           Non-Null Count   Dtype   \n",
      "---  ------           --------------   -----   \n",
      " 0   shipid           420796 non-null  int32   \n",
      " 1   speed            420796 non-null  float64 \n",
      " 2   course           420796 non-null  float64 \n",
      " 3   location         420796 non-null  object  \n",
      " 4   code             181408 non-null  object  \n",
      " 5   type             420796 non-null  category\n",
      " 6   latitude         260324 non-null  float64 \n",
      " 7   longitude        260324 non-null  float64 \n",
      " 8   encodedpolyline  361753 non-null  object  \n",
      " 9   capacityton      420796 non-null  int32   \n",
      " 10  length_m         420796 non-null  float64 \n",
      " 11  width_m          420796 non-null  float64 \n",
      "dtypes: category(1), float64(6), int32(2), object(3)\n",
      "memory usage: 35.7+ MB\n"
     ]
    }
   ],
   "source": [
    "barges_join.info()"
   ]
  },
  {
   "cell_type": "code",
   "execution_count": 70,
   "metadata": {},
   "outputs": [
    {
     "data": {
      "text/html": [
       "<div>\n",
       "<style scoped>\n",
       "    .dataframe tbody tr th:only-of-type {\n",
       "        vertical-align: middle;\n",
       "    }\n",
       "\n",
       "    .dataframe tbody tr th {\n",
       "        vertical-align: top;\n",
       "    }\n",
       "\n",
       "    .dataframe thead th {\n",
       "        text-align: right;\n",
       "    }\n",
       "</style>\n",
       "<table border=\"1\" class=\"dataframe\">\n",
       "  <thead>\n",
       "    <tr style=\"text-align: right;\">\n",
       "      <th></th>\n",
       "      <th>shipid</th>\n",
       "      <th>speed</th>\n",
       "      <th>course</th>\n",
       "      <th>location</th>\n",
       "      <th>code</th>\n",
       "      <th>type</th>\n",
       "      <th>latitude</th>\n",
       "      <th>longitude</th>\n",
       "      <th>encodedpolyline</th>\n",
       "      <th>capacityton</th>\n",
       "      <th>length_m</th>\n",
       "      <th>width_m</th>\n",
       "    </tr>\n",
       "  </thead>\n",
       "  <tbody>\n",
       "    <tr>\n",
       "      <th>0</th>\n",
       "      <td>1055</td>\n",
       "      <td>0.0</td>\n",
       "      <td>236.1</td>\n",
       "      <td>Duisburg</td>\n",
       "      <td>NaN</td>\n",
       "      <td>Port</td>\n",
       "      <td>51.523105</td>\n",
       "      <td>6.704578</td>\n",
       "      <td>g`nyHsw}g@jSknAly@w}@ji@i@jrG{fA_CiqEhOmrAbfAz...</td>\n",
       "      <td>1681</td>\n",
       "      <td>86.0</td>\n",
       "      <td>9.5</td>\n",
       "    </tr>\n",
       "    <tr>\n",
       "      <th>1</th>\n",
       "      <td>1055</td>\n",
       "      <td>0.0</td>\n",
       "      <td>267.4</td>\n",
       "      <td>Duisburg</td>\n",
       "      <td>NaN</td>\n",
       "      <td>Port</td>\n",
       "      <td>51.523105</td>\n",
       "      <td>6.704578</td>\n",
       "      <td>g`nyHsw}g@jSknAly@w}@ji@i@jrG{fA_CiqEhOmrAbfAz...</td>\n",
       "      <td>1681</td>\n",
       "      <td>86.0</td>\n",
       "      <td>9.5</td>\n",
       "    </tr>\n",
       "    <tr>\n",
       "      <th>2</th>\n",
       "      <td>1055</td>\n",
       "      <td>0.0</td>\n",
       "      <td>226.1</td>\n",
       "      <td>Duisburg</td>\n",
       "      <td>NaN</td>\n",
       "      <td>Port</td>\n",
       "      <td>51.523105</td>\n",
       "      <td>6.704578</td>\n",
       "      <td>g`nyHsw}g@jSknAly@w}@ji@i@jrG{fA_CiqEhOmrAbfAz...</td>\n",
       "      <td>1681</td>\n",
       "      <td>86.0</td>\n",
       "      <td>9.5</td>\n",
       "    </tr>\n",
       "    <tr>\n",
       "      <th>3</th>\n",
       "      <td>1055</td>\n",
       "      <td>0.0</td>\n",
       "      <td>186.4</td>\n",
       "      <td>Duisburg</td>\n",
       "      <td>NaN</td>\n",
       "      <td>Port</td>\n",
       "      <td>51.523105</td>\n",
       "      <td>6.704578</td>\n",
       "      <td>g`nyHsw}g@jSknAly@w}@ji@i@jrG{fA_CiqEhOmrAbfAz...</td>\n",
       "      <td>1681</td>\n",
       "      <td>86.0</td>\n",
       "      <td>9.5</td>\n",
       "    </tr>\n",
       "    <tr>\n",
       "      <th>4</th>\n",
       "      <td>1055</td>\n",
       "      <td>0.0</td>\n",
       "      <td>291.8</td>\n",
       "      <td>Duisburg</td>\n",
       "      <td>NaN</td>\n",
       "      <td>Port</td>\n",
       "      <td>51.523105</td>\n",
       "      <td>6.704578</td>\n",
       "      <td>g`nyHsw}g@jSknAly@w}@ji@i@jrG{fA_CiqEhOmrAbfAz...</td>\n",
       "      <td>1681</td>\n",
       "      <td>86.0</td>\n",
       "      <td>9.5</td>\n",
       "    </tr>\n",
       "  </tbody>\n",
       "</table>\n",
       "</div>"
      ],
      "text/plain": [
       "   shipid  speed  course  location code  type   latitude  longitude  \\\n",
       "0    1055    0.0   236.1  Duisburg  NaN  Port  51.523105   6.704578   \n",
       "1    1055    0.0   267.4  Duisburg  NaN  Port  51.523105   6.704578   \n",
       "2    1055    0.0   226.1  Duisburg  NaN  Port  51.523105   6.704578   \n",
       "3    1055    0.0   186.4  Duisburg  NaN  Port  51.523105   6.704578   \n",
       "4    1055    0.0   291.8  Duisburg  NaN  Port  51.523105   6.704578   \n",
       "\n",
       "                                     encodedpolyline  capacityton  length_m  \\\n",
       "0  g`nyHsw}g@jSknAly@w}@ji@i@jrG{fA_CiqEhOmrAbfAz...         1681      86.0   \n",
       "1  g`nyHsw}g@jSknAly@w}@ji@i@jrG{fA_CiqEhOmrAbfAz...         1681      86.0   \n",
       "2  g`nyHsw}g@jSknAly@w}@ji@i@jrG{fA_CiqEhOmrAbfAz...         1681      86.0   \n",
       "3  g`nyHsw}g@jSknAly@w}@ji@i@jrG{fA_CiqEhOmrAbfAz...         1681      86.0   \n",
       "4  g`nyHsw}g@jSknAly@w}@ji@i@jrG{fA_CiqEhOmrAbfAz...         1681      86.0   \n",
       "\n",
       "   width_m  \n",
       "0      9.5  \n",
       "1      9.5  \n",
       "2      9.5  \n",
       "3      9.5  \n",
       "4      9.5  "
      ]
     },
     "execution_count": 70,
     "metadata": {},
     "output_type": "execute_result"
    }
   ],
   "source": [
    "barges_join.head()"
   ]
  },
  {
   "cell_type": "code",
   "execution_count": 71,
   "metadata": {},
   "outputs": [],
   "source": [
    "barges_join.to_csv('Ubargepositionapril.csv', index = False)"
   ]
  }
 ],
 "metadata": {
  "kernelspec": {
   "display_name": "Python 3",
   "language": "python",
   "name": "python3"
  },
  "language_info": {
   "codemirror_mode": {
    "name": "ipython",
    "version": 3
   },
   "file_extension": ".py",
   "mimetype": "text/x-python",
   "name": "python",
   "nbconvert_exporter": "python",
   "pygments_lexer": "ipython3",
   "version": "3.7.4"
  }
 },
 "nbformat": 4,
 "nbformat_minor": 2
}
