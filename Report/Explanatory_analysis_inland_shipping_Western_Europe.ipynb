{
 "cells": [
  {
   "cell_type": "markdown",
   "metadata": {
    "slideshow": {
     "slide_type": "slide"
    }
   },
   "source": [
    "# DORY: An exploration of barge movements on Western-Europe waterways.\n",
    "\n",
    "Western-Europe has a broad river delta reaching from the shores off the Netherlands and Belgium through Germany and France to the mountains of Switzerland. This river delta is used as a blue road for the transport of many types of goods like general goods in containers, commodities, cars, oil, mineral and gas. Although the barge is a slower transportation method than a truck or train, the amounts transported per barge, CO2 emissions per litre, the connection with deepsea transport and the reliability of infrastructure are all excellent arguments for shippers to choose the barge as transportation type.\n",
    "\n",
    "In this exploration we'll dive into location data of barges to explore the speeds of barges. This information could be used to enhance estimations of arrival times which contributes to the reliability and therefore reputation of the transportation type.\n"
   ]
  },
  {
   "cell_type": "markdown",
   "metadata": {
    "slideshow": {
     "slide_type": "skip"
    }
   },
   "source": [
    "## Exploratory analysis\n",
    "\n",
    "During the exploratory analysis information was gathered about barge traveling speed in different location types. This information showed to important things.\n",
    "\n",
    "1. Speeds of 0 km/ph influences the data a lot and should be removed if we would like to explore traveling speeds for beter estimations of arrival times. \n",
    "2. Waterway locations showed an interesting bimodal distribution worth exploring. What would cause this and how should it be taken in considiration for calculating estimated arrival times.\n",
    "\n",
    "The exploration of barge behavior on waterways led to a analysis of the correlation between speed and barge size. And the correlation between speed and course of barge.\n",
    "\n",
    "Based on the data the choice was made to use barge length as measurement for size. The analysis showed a correlation between speed and size. Generally speaking the larger the barge, the faster the average speed of the barge. The speed analysis based on the size of the barges also showed the bimodal distribution.\n",
    "\n",
    "The course as is wasn't suited for visual exploration. Therefore the data was enriched with compass headings. This showed a clear difference in speed between barges heading south to west and barges heading north to east.\n",
    "\n",
    "The visual exploration led to plot the locations of barges on a map to get a general idea of the positions of the waterways. The sea ports are North to West of the locations, meaning barges sail upstream when heading south to east. This could explain the difference in speed. Also an important fact could be that barge mainly transport import cargo, meaning traveling full south to east and empty north to west.\n",
    "\n",
    "Conclusion of the exploration: The visual exploration has shown multiple relevant data points that could be used for calculation an estimated arrival time, but further research is needed. \n",
    "\n"
   ]
  },
  {
   "cell_type": "code",
   "execution_count": 1,
   "metadata": {
    "scrolled": true,
    "slideshow": {
     "slide_type": "skip"
    }
   },
   "outputs": [
    {
     "name": "stdout",
     "output_type": "stream",
     "text": [
      "C:\\users\\frank\\jupyter notebook\\logistics\\data\n"
     ]
    }
   ],
   "source": [
    "cd \\users\\frank\\jupyter notebook\\logistics\\data"
   ]
  },
  {
   "cell_type": "code",
   "execution_count": 2,
   "metadata": {
    "slideshow": {
     "slide_type": "skip"
    }
   },
   "outputs": [
    {
     "name": "stderr",
     "output_type": "stream",
     "text": [
      "C:\\Users\\Frank\\Anaconda3\\lib\\site-packages\\statsmodels\\tools\\_testing.py:19: FutureWarning: pandas.util.testing is deprecated. Use the functions in the public API at pandas.testing instead.\n",
      "  import pandas.util.testing as tm\n"
     ]
    }
   ],
   "source": [
    "import pandas as pd\n",
    "import numpy as np\n",
    "import matplotlib.pyplot as plt\n",
    "import seaborn as sb"
   ]
  },
  {
   "cell_type": "code",
   "execution_count": 3,
   "metadata": {
    "slideshow": {
     "slide_type": "skip"
    }
   },
   "outputs": [],
   "source": [
    "bp = pd.read_csv('Ubargepositionapril.csv')"
   ]
  },
  {
   "cell_type": "markdown",
   "metadata": {
    "slideshow": {
     "slide_type": "slide"
    }
   },
   "source": [
    "## The Data\n",
    "\n",
    "The data is collected from barge positions in the Western-Europe delta. Positions consists of speed, course and location. The data is combined with barge and location information. \n",
    "\n",
    "Barge information consists of the cargo capacity a barge can carry in tonnage. The dimensions of a barge are measured in length and width in meters.\n",
    "\n",
    "For the location the data gives information about the type of location, code of a location, position in latitude, longitude and geofence. \n",
    "In this study the location types ports, waterways and terminals are used. Other obvious location types would be bridges and docks. Those aren't taken under consideration because the greatest impact these locations types have on the estimated time of arrival isn't based on the traveling speed of the barge, but their waiting times. \n",
    "\n",
    "Because we're interested in the traveling speed of barges the data points with a speed of 0 km/ph are dropped from the dataset.\n"
   ]
  },
  {
   "cell_type": "code",
   "execution_count": 4,
   "metadata": {
    "scrolled": true,
    "slideshow": {
     "slide_type": "subslide"
    }
   },
   "outputs": [
    {
     "name": "stdout",
     "output_type": "stream",
     "text": [
      "<class 'pandas.core.frame.DataFrame'>\n",
      "RangeIndex: 420796 entries, 0 to 420795\n",
      "Data columns (total 12 columns):\n",
      " #   Column           Non-Null Count   Dtype  \n",
      "---  ------           --------------   -----  \n",
      " 0   shipid           420796 non-null  int64  \n",
      " 1   speed            420796 non-null  float64\n",
      " 2   course           420796 non-null  float64\n",
      " 3   location         420796 non-null  object \n",
      " 4   code             181408 non-null  object \n",
      " 5   type             420796 non-null  object \n",
      " 6   latitude         260324 non-null  float64\n",
      " 7   longitude        260324 non-null  float64\n",
      " 8   encodedpolyline  361753 non-null  object \n",
      " 9   capacityton      420796 non-null  int64  \n",
      " 10  length_m         420796 non-null  float64\n",
      " 11  width_m          420796 non-null  float64\n",
      "dtypes: float64(6), int64(2), object(4)\n",
      "memory usage: 38.5+ MB\n"
     ]
    }
   ],
   "source": [
    "bp.info()"
   ]
  },
  {
   "cell_type": "code",
   "execution_count": 5,
   "metadata": {
    "slideshow": {
     "slide_type": "skip"
    }
   },
   "outputs": [
    {
     "data": {
      "text/plain": [
       "array(['Port', 'Water way', 'Terminal'], dtype=object)"
      ]
     },
     "execution_count": 5,
     "metadata": {},
     "output_type": "execute_result"
    }
   ],
   "source": [
    "# Create list for new dataframe\n",
    "\n",
    "count_type = bp['type'].value_counts()\n",
    "top_type = count_type > 50000\n",
    "top_type = top_type[top_type == True]\n",
    "lst_type = np.array(top_type.index)\n",
    "lst_type"
   ]
  },
  {
   "cell_type": "code",
   "execution_count": 6,
   "metadata": {
    "slideshow": {
     "slide_type": "skip"
    }
   },
   "outputs": [
    {
     "data": {
      "text/plain": [
       "Port         243752\n",
       "Water way    106166\n",
       "Terminal      69564\n",
       "Name: type, dtype: int64"
      ]
     },
     "execution_count": 6,
     "metadata": {},
     "output_type": "execute_result"
    }
   ],
   "source": [
    "# Create copy for new dataframe\n",
    "\n",
    "bp_sub1 = bp[bp['type'].isin(lst_type)].copy()\n",
    "bp_sub1['type'].value_counts()"
   ]
  },
  {
   "cell_type": "code",
   "execution_count": 7,
   "metadata": {
    "slideshow": {
     "slide_type": "skip"
    }
   },
   "outputs": [],
   "source": [
    "# Drop row with speed of 0 such that we're able to read the data beter\n",
    "\n",
    "bp_sub2 = bp_sub1[bp_sub1['speed'] >= 1]"
   ]
  },
  {
   "cell_type": "markdown",
   "metadata": {
    "slideshow": {
     "slide_type": "slide"
    }
   },
   "source": [
    "## Location type effects the speed of barges.\n",
    "\n",
    "There is a clear and obvious difference in speed between the three types of locations.\n",
    "\n",
    "In ports vessels seem to have an normal distribution. This seems to be obvious behavior. Ports are passed through or sailed for a period of time before arriving at a destination.\n",
    "\n",
    "On waterways we clearly see a bimodal distribution. This is odd. Why would we witness this? What would influence the speed in this way?\n",
    "\n",
    "For terminals the distribution leans towards a uniform distribution, although a speed between 12 and 19 km/ph stands out. Because the purpose of a terminal is to dock barges, it's logical that lower speeds are more common. Barges should slow down and start up when mooring or unmooring. The peaks would suggest the sailing past a terminal is a common activity.\n",
    "\n",
    "The location also have great similarities. The peak speeds are between 15 and 20 km/ph and top speed don't seem to be more than 25 km/ph in most cases.\n",
    "\n",
    "Because of the differences between the location types, only traveling speeds on waterways will be taken in consideration for further explanation. This type seems the most suited for explaining traveling speeds.\n"
   ]
  },
  {
   "cell_type": "code",
   "execution_count": 8,
   "metadata": {
    "slideshow": {
     "slide_type": "subslide"
    }
   },
   "outputs": [
    {
     "data": {
      "image/png": "[encoded data removed]",
      "text/plain": [
       "<Figure size 648x216 with 3 Axes>"
      ]
     },
     "metadata": {
      "needs_background": "light"
     },
     "output_type": "display_data"
    }
   ],
   "source": [
    "# Create bin criteria\n",
    "bin_edges = np.arange(0,bp['speed'].max()+1,1)\n",
    "\n",
    "# Create bin criteria\n",
    "g = sb.FacetGrid(data = bp_sub2, col = 'type', col_wrap = 3, sharey = False)\n",
    "\n",
    "# Plot histogram\n",
    "g.map(plt.hist, 'speed', bins=bin_edges)\n",
    "x_ticks = 0,5,10,15,20,25,30\n",
    "g.set(xticks = x_ticks);"
   ]
  },
  {
   "cell_type": "markdown",
   "metadata": {
    "slideshow": {
     "slide_type": "slide"
    }
   },
   "source": [
    "## The barge capacity seems to have a positive effect on traveling speed.\n",
    "\n",
    "The data seems to show a positive relation between speed and the capacity cargo a barge can load measured in tonnage. The conclusion could be: The more capacity, the faster a barge. However correlation doesn't mean causation. Perhaps it's true. Perhaps the capacity is allocated on different waterways which could also influence the speed."
   ]
  },
  {
   "cell_type": "code",
   "execution_count": 9,
   "metadata": {
    "slideshow": {
     "slide_type": "skip"
    }
   },
   "outputs": [],
   "source": [
    "# trim data to only water way movements\n",
    "bp_ways = bp_sub2[bp_sub2['type'] == 'Water way'].copy()"
   ]
  },
  {
   "cell_type": "code",
   "execution_count": 10,
   "metadata": {
    "slideshow": {
     "slide_type": "subslide"
    }
   },
   "outputs": [
    {
     "data": {
      "image/png": "[encoded data removed]",
      "text/plain": [
       "<Figure size 432x288 with 1 Axes>"
      ]
     },
     "metadata": {
      "needs_background": "light"
     },
     "output_type": "display_data"
    }
   ],
   "source": [
    "# Plot on capacityton\n",
    "sb.regplot(data = bp_ways, x = 'capacityton', y = 'speed', scatter_kws = {'alpha': 0.05})\n",
    "plt.title('Relation between speed and capacityton');"
   ]
  },
  {
   "cell_type": "markdown",
   "metadata": {
    "slideshow": {
     "slide_type": "slide"
    }
   },
   "source": [
    "## Also the length of a barge seems to have a positive effect on traveling speed.\n",
    "\n",
    "The visualisation clearly shows that the more length the barge has the faster it's average speed. The second smallest barge (86m in length) are an important exception. These are on average the 'fastest' barges. Barges with a length of 99m clearly show the displacement of the bimodal distribution. Other barge lengths, except for the 85m barges, also show a bimodal figure."
   ]
  },
  {
   "cell_type": "code",
   "execution_count": 11,
   "metadata": {
    "scrolled": false,
    "slideshow": {
     "slide_type": "subslide"
    }
   },
   "outputs": [
    {
     "data": {
      "image/png": "[encoded data removed]",
      "text/plain": [
       "<Figure size 432x288 with 1 Axes>"
      ]
     },
     "metadata": {
      "needs_background": "light"
     },
     "output_type": "display_data"
    }
   ],
   "source": [
    "sb.violinplot(data = bp_ways, x = 'length_m', y = 'speed')\n",
    "plt.title(\"Violinplot of speeds distributed over barge lengths\");"
   ]
  },
  {
   "cell_type": "code",
   "execution_count": 12,
   "metadata": {
    "slideshow": {
     "slide_type": "skip"
    }
   },
   "outputs": [],
   "source": [
    "# Create compass heading\n",
    "heading = []\n",
    "\n",
    "for i in bp_ways['course']:\n",
    "    if i < 22.5:\n",
    "        heading.append('North')        \n",
    "    elif i < 67.5:\n",
    "        heading.append('North East')\n",
    "    elif i < 112.5:\n",
    "        heading.append('East')\n",
    "    elif i < 157.5:\n",
    "        heading.append('South East')\n",
    "    elif i < 202.5:\n",
    "        heading.append('South')\n",
    "    elif i < 247.5:\n",
    "        heading.append('South West')\n",
    "    elif i < 292.5:\n",
    "        heading.append('West')\n",
    "    elif i < 337.5:\n",
    "        heading.append('North West')\n",
    "    elif i < 360:\n",
    "        heading.append('North')\n",
    "    else:\n",
    "        heading.append('Unkown')\n",
    "        \n",
    "heading = np.array(heading)"
   ]
  },
  {
   "cell_type": "code",
   "execution_count": 13,
   "metadata": {
    "slideshow": {
     "slide_type": "skip"
    }
   },
   "outputs": [],
   "source": [
    "# Add compass heading to dataframe\n",
    "bp_ways['heading'] = heading"
   ]
  },
  {
   "cell_type": "code",
   "execution_count": 14,
   "metadata": {
    "scrolled": true,
    "slideshow": {
     "slide_type": "skip"
    }
   },
   "outputs": [
    {
     "data": {
      "text/plain": [
       "heading\n",
       "East          13.814845\n",
       "North         14.278776\n",
       "North East    14.707845\n",
       "North West    16.229699\n",
       "South         11.775080\n",
       "South East    13.138188\n",
       "South West    13.198343\n",
       "West          16.001656\n",
       "Name: speed, dtype: float64"
      ]
     },
     "execution_count": 14,
     "metadata": {},
     "output_type": "execute_result"
    }
   ],
   "source": [
    "# Check if code works\n",
    "bp_ways.groupby(['heading']).speed.mean()"
   ]
  },
  {
   "cell_type": "code",
   "execution_count": 15,
   "metadata": {
    "slideshow": {
     "slide_type": "skip"
    }
   },
   "outputs": [],
   "source": [
    "# Order heading logically from North, East, South, West \n",
    "headingOrder = ['North', 'North East', 'East', 'South East', 'South', 'South West', 'West', 'North West']\n",
    "compassHeadings = pd.api.types.CategoricalDtype(ordered = True, categories=headingOrder)\n",
    "bp_ways['heading'] = bp_ways['heading'].astype(compassHeadings)"
   ]
  },
  {
   "cell_type": "markdown",
   "metadata": {
    "slideshow": {
     "slide_type": "slide"
    }
   },
   "source": [
    "## The heading of a barge seems to effect its speed.\n",
    "\n",
    "It seems that the heading of a barge has an effect on the speed of the barge. Heading South, South West or South East will affect the speed in a negative way and heading West or North West will affect the speed in a positive way."
   ]
  },
  {
   "cell_type": "code",
   "execution_count": 16,
   "metadata": {
    "scrolled": false,
    "slideshow": {
     "slide_type": "subslide"
    }
   },
   "outputs": [
    {
     "data": {
      "image/png": "[encoded data removed]",
      "text/plain": [
       "<Figure size 432x288 with 1 Axes>"
      ]
     },
     "metadata": {
      "needs_background": "light"
     },
     "output_type": "display_data"
    }
   ],
   "source": [
    "# Plot average speeds and standard deviations\n",
    "sb.pointplot(data = bp_ways, x= 'heading', y='speed', ci = 'sd')\n",
    "plt.xticks(rotation = 45)\n",
    "plt.ylabel('Avg. speed (km/ph)')\n",
    "plt.title('Avg. speed per heading');"
   ]
  },
  {
   "cell_type": "markdown",
   "metadata": {
    "slideshow": {
     "slide_type": "slide"
    }
   },
   "source": [
    "## 99 meter barges underline the effect of heading on speed.\n",
    "\n",
    "The barges of 99 meters makes the difference in average speed very clear. Barges heading South, South East, East and South West will, on average, travel with a slower speed that barges heading North, North East, North West or West. This corresponds with the bimodal distribution of this size of barge.\n"
   ]
  },
  {
   "cell_type": "code",
   "execution_count": 17,
   "metadata": {
    "scrolled": false,
    "slideshow": {
     "slide_type": "subslide"
    }
   },
   "outputs": [
    {
     "data": {
      "image/png": "[encoded data removed]",
      "text/plain": [
       "<Figure size 432x288 with 1 Axes>"
      ]
     },
     "metadata": {
      "needs_background": "light"
     },
     "output_type": "display_data"
    }
   ],
   "source": [
    "# Plot average speeds and standard deviations\n",
    "barges_99m = bp_ways[bp_ways['length_m'] == 99.00]\n",
    "sb.pointplot(data = barges_99m, x= 'heading', y='speed', ci = 'sd')\n",
    "plt.xticks(rotation = 45)\n",
    "plt.ylabel('Avg. speed (km/ph)')\n",
    "plt.title('Avg. speed per heading for barges with length 99 meters');"
   ]
  },
  {
   "cell_type": "markdown",
   "metadata": {
    "slideshow": {
     "slide_type": "skip"
    }
   },
   "source": [
    "# Plot on map\n",
    "Let's explore the barge positions on a map relative to the headings to figure out what could be the cause of the discrepancy."
   ]
  },
  {
   "cell_type": "code",
   "execution_count": 18,
   "metadata": {
    "scrolled": true,
    "slideshow": {
     "slide_type": "skip"
    }
   },
   "outputs": [
    {
     "name": "stderr",
     "output_type": "stream",
     "text": [
      "C:\\Users\\Frank\\Anaconda3\\lib\\site-packages\\arcgis\\features\\_data\\geodataset\\utils.py:16: FutureWarning: The pandas.datetime class is deprecated and will be removed from pandas in a future version. Import from datetime module instead.\n",
      "  pd.datetime,\n"
     ]
    }
   ],
   "source": [
    "from arcgis.gis import GIS\n"
   ]
  },
  {
   "cell_type": "code",
   "execution_count": 19,
   "metadata": {
    "slideshow": {
     "slide_type": "skip"
    }
   },
   "outputs": [],
   "source": [
    "import descartes\n",
    "import geopandas as gpd\n",
    "import polyline as pol\n",
    "from shapely.geometry import Point, Polygon"
   ]
  },
  {
   "cell_type": "code",
   "execution_count": 20,
   "metadata": {
    "slideshow": {
     "slide_type": "skip"
    }
   },
   "outputs": [],
   "source": [
    "gis = GIS()"
   ]
  },
  {
   "cell_type": "markdown",
   "metadata": {
    "slideshow": {
     "slide_type": "skip"
    }
   },
   "source": [
    "The heading of 85 meter barges. These barges don't show a bimodal speed distribution and have the lowest average."
   ]
  },
  {
   "cell_type": "code",
   "execution_count": 21,
   "metadata": {
    "scrolled": true,
    "slideshow": {
     "slide_type": "skip"
    }
   },
   "outputs": [
    {
     "data": {
      "application/vnd.jupyter.widget-view+json": {
       "model_id": "a69ec85eac2c4a88bdcc8576eb4fd598",
       "version_major": 2,
       "version_minor": 0
      },
      "text/plain": [
       "MapView(layout=Layout(height='400px', width='100%'))"
      ]
     },
     "metadata": {},
     "output_type": "display_data"
    },
    {
     "data": {
      "text/html": [
       "<div class=\"map-static-img-preview-6f596799-508b-426e-b4ca-b8083c7de11f\"><img src=\"\"></img></div>"
      ],
      "text/plain": [
       "<IPython.core.display.HTML object>"
      ]
     },
     "metadata": {},
     "output_type": "display_data"
    }
   ],
   "source": [
    "loc_barges_85m = gis.map(\"Netherlands\")\n",
    "slct_85 = bp_ways[bp_ways['length_m'] == 85.00][['location','latitude','longitude']]\n",
    "slct_85 = slct_85.drop_duplicates()\n",
    "lyr_85 = gis.content.import_data(slct_85)\n",
    "loc_barges_85m.add_layer(lyr_85)\n",
    "loc_barges_85m"
   ]
  },
  {
   "cell_type": "markdown",
   "metadata": {
    "slideshow": {
     "slide_type": "skip"
    }
   },
   "source": [
    "The heading of 86 meter barges. These barges show a slight bimodal speed distribution and have the highest average speed."
   ]
  },
  {
   "cell_type": "code",
   "execution_count": 22,
   "metadata": {
    "slideshow": {
     "slide_type": "skip"
    }
   },
   "outputs": [
    {
     "data": {
      "application/vnd.jupyter.widget-view+json": {
       "model_id": "d4cf9030869d42d19b0e5b65c01da6f1",
       "version_major": 2,
       "version_minor": 0
      },
      "text/plain": [
       "MapView(layout=Layout(height='400px', width='100%'))"
      ]
     },
     "metadata": {},
     "output_type": "display_data"
    },
    {
     "data": {
      "text/html": [
       "<div class=\"map-static-img-preview-3a1901e6-56a6-4efa-9200-4e13ab15b165\"><img src=\"\"></img></div>"
      ],
      "text/plain": [
       "<IPython.core.display.HTML object>"
      ]
     },
     "metadata": {},
     "output_type": "display_data"
    }
   ],
   "source": [
    "loc_barges_86m = gis.map(\"Netherlands\")\n",
    "slct_86 = bp_ways[bp_ways['length_m'] == 86.00][['location','latitude','longitude']]\n",
    "slct_86 = slct_86.drop_duplicates()\n",
    "lyr_86 = gis.content.import_data(slct_86)\n",
    "loc_barges_86m.add_layer(lyr_86)\n",
    "loc_barges_86m"
   ]
  },
  {
   "cell_type": "markdown",
   "metadata": {
    "slideshow": {
     "slide_type": "skip"
    }
   },
   "source": [
    "The heading of 99 meter barges. These barges show a clear bimodal speed distribution."
   ]
  },
  {
   "cell_type": "code",
   "execution_count": 23,
   "metadata": {
    "slideshow": {
     "slide_type": "skip"
    }
   },
   "outputs": [
    {
     "data": {
      "application/vnd.jupyter.widget-view+json": {
       "model_id": "b2f6203fd2b5424e87d06fc1d5882901",
       "version_major": 2,
       "version_minor": 0
      },
      "text/plain": [
       "MapView(layout=Layout(height='400px', width='100%'))"
      ]
     },
     "metadata": {},
     "output_type": "display_data"
    },
    {
     "data": {
      "text/html": [
       "<div class=\"map-static-img-preview-a42d2eef-edab-4bbd-b1f2-024582c4d328\"><img src=\"\"></img></div>"
      ],
      "text/plain": [
       "<IPython.core.display.HTML object>"
      ]
     },
     "metadata": {},
     "output_type": "display_data"
    }
   ],
   "source": [
    "loc_barges_99m = gis.map(\"Netherlands\")\n",
    "slct_99 = bp_ways[bp_ways['length_m'] == 99.00][['location','latitude','longitude']]\n",
    "slct_99 = slct_99.drop_duplicates()\n",
    "lyr_99 = gis.content.import_data(slct_99)\n",
    "loc_barges_99m.add_layer(lyr_99)\n",
    "loc_barges_99m"
   ]
  },
  {
   "cell_type": "markdown",
   "metadata": {
    "slideshow": {
     "slide_type": "skip"
    }
   },
   "source": [
    "The heading of 110 meter barges. These barges show a slight bimodal speed distribution."
   ]
  },
  {
   "cell_type": "code",
   "execution_count": 24,
   "metadata": {
    "scrolled": true,
    "slideshow": {
     "slide_type": "skip"
    }
   },
   "outputs": [
    {
     "data": {
      "application/vnd.jupyter.widget-view+json": {
       "model_id": "7b6dd60ccf6b48349b375d5e6fba8e44",
       "version_major": 2,
       "version_minor": 0
      },
      "text/plain": [
       "MapView(layout=Layout(height='400px', width='100%'))"
      ]
     },
     "metadata": {},
     "output_type": "display_data"
    },
    {
     "data": {
      "text/html": [
       "<div class=\"map-static-img-preview-b05455a5-2d5c-4007-b6dc-22a482142e79\"><img src=\"\"></img></div>"
      ],
      "text/plain": [
       "<IPython.core.display.HTML object>"
      ]
     },
     "metadata": {},
     "output_type": "display_data"
    }
   ],
   "source": [
    "loc_barges_110m = gis.map(\"Netherlands\")\n",
    "slct_110 = bp_ways[bp_ways['length_m'] == 110.00][['location','latitude','longitude']]\n",
    "slct_110 = slct_110.drop_duplicates()\n",
    "lyr_110 = gis.content.import_data(slct_110)\n",
    "loc_barges_110m.add_layer(lyr_110)\n",
    "loc_barges_110m"
   ]
  },
  {
   "cell_type": "markdown",
   "metadata": {
    "slideshow": {
     "slide_type": "skip"
    }
   },
   "source": [
    "The heading of 110 meter barges. These barges show a slight bimodal speed distribution."
   ]
  },
  {
   "cell_type": "code",
   "execution_count": 25,
   "metadata": {
    "scrolled": true,
    "slideshow": {
     "slide_type": "skip"
    }
   },
   "outputs": [
    {
     "data": {
      "application/vnd.jupyter.widget-view+json": {
       "model_id": "4ae595e34c59410eab54e3a21c21cd02",
       "version_major": 2,
       "version_minor": 0
      },
      "text/plain": [
       "MapView(layout=Layout(height='400px', width='100%'))"
      ]
     },
     "metadata": {},
     "output_type": "display_data"
    },
    {
     "data": {
      "text/html": [
       "<div class=\"map-static-img-preview-b3b8c49f-027c-4f18-96c6-1552fd437b66\"><img src=\"\"></img></div>"
      ],
      "text/plain": [
       "<IPython.core.display.HTML object>"
      ]
     },
     "metadata": {},
     "output_type": "display_data"
    }
   ],
   "source": [
    "loc_barges_135m = gis.map(\"Netherlands\")\n",
    "slct_135 = bp_ways[bp_ways['length_m'] == 135.00][['location','latitude','longitude']]\n",
    "slct_135 = slct_135.drop_duplicates()\n",
    "lyr_135 = gis.content.import_data(slct_135)\n",
    "loc_barges_135m.add_layer(lyr_135)\n",
    "loc_barges_135m"
   ]
  },
  {
   "cell_type": "markdown",
   "metadata": {
    "slideshow": {
     "slide_type": "skip"
    }
   },
   "source": [
    "It seems like all the barge of 99 meters travel in the same area's as those of 110 and 135 meters. We also notice that heading east, south and south east are inland routes, meaning going against the current. This could be the reason why heading this way is slower than heading north, west or north west. Another reason could be the load of the barges. This area is leans heavily on import. Barges travel full inland and empty towards sea ports."
   ]
  },
  {
   "cell_type": "markdown",
   "metadata": {
    "slideshow": {
     "slide_type": "slide"
    }
   },
   "source": [
    "# Conclusion.\n",
    "\n",
    "This study is focussed on location data of barges to explore their speeds. This information could be used to enhance estimations of arrival times which contributes to the reliability and therefore reputation of the transportation type.\n",
    "\n",
    "Based on the data we can advise to further explore the effect of vessel size and sailing directions on the calculation of estimated arrival times of barges traveling over the main rivers of the Western-Europe delta. \n",
    "\n",
    "The data clearly shows that barges heading North, North West and West over these rivers are faster than in other directions. Heading North, North West and West in this case means sailing toward sea ports and with the current. This could cause the difference in speed. Another possibility could be the cargo distribution. Western-Europe is mainly focussed on import of cargo, meaning barges are full sailing inland and empty sailing towards the sea ports. Further analysis is needed to research these possibilities. \n",
    "\n",
    "Why cargo capacity and length seem to have effect on the speed of a barge remains unclear. More information should be gathered about the routes of the barges. Does 99 meter barges have more short runs than long hauls compared to the other barges? And if so could this effect the average speed or speed distribution?\n",
    "\n",
    "\n"
   ]
  }
 ],
 "metadata": {
  "celltoolbar": "Slideshow",
  "kernelspec": {
   "display_name": "Python 3",
   "language": "python",
   "name": "python3"
  },
  "language_info": {
   "codemirror_mode": {
    "name": "ipython",
    "version": 3
   },
   "file_extension": ".py",
   "mimetype": "text/x-python",
   "name": "python",
   "nbconvert_exporter": "python",
   "pygments_lexer": "ipython3",
   "version": "3.7.4"
  }
 },
 "nbformat": 4,
 "nbformat_minor": 2
}
